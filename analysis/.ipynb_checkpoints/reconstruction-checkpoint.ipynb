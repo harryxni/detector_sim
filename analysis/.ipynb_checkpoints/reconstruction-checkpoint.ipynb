{
 "cells": [
  {
   "cell_type": "code",
   "execution_count": 101,
   "id": "cb5ef624",
   "metadata": {},
   "outputs": [],
   "source": [
    "import uproot\n",
    "import numpy as np\n",
    "import matplotlib.pyplot as plt\n",
    "from scipy import stats\n",
    "plt.rcParams['figure.figsize'] = [20, 10]\n"
   ]
  },
  {
   "cell_type": "code",
   "execution_count": 934,
   "id": "cb3aecf2",
   "metadata": {},
   "outputs": [],
   "source": [
    "tracks_t = uproot.open(\"../test.root:diffusion output\")\n",
    "#tracks_t.values()\n",
    "\n",
    "def weighted_avg_var(values, weights):\n",
    "    average = np.average(values, weights=weights)\n",
    "    variance = np.average((values-average)**2, weights=weights)\n",
    "    \n",
    "    return (average, variance)\n",
    "\n",
    "def prob_array(avg_track, z0, tol_distance=5):\n",
    "    x_max=int(np.rint(max(avg_track[:,0]))) +1\n",
    "    y_max=int(np.rint(max(avg_track[:,1]))) +1\n",
    "    \n",
    "    sub_array=np.empty((x_max,y_max))\n",
    "\n",
    "    track_region=set()\n",
    "    for i in range(0,x_max):\n",
    "        for j in range(0,y_max):\n",
    "        #print(i,j)\n",
    "            int_charge=0\n",
    "    \n",
    "            for dep in avg_track:\n",
    "                dist=np.sqrt((i-dep[0])**2 + (j-dep[1])**2)  \n",
    "    \n",
    "                diff_factor = 0.00323\n",
    "                z_abs = z0 + 0.72 * 5 * dep[2] #0.72 microns/nanosecond\n",
    "                sigma = diff_factor * np.sqrt(z_abs)\n",
    "            \n",
    "                if dist<=tol_distance:\n",
    "                    track_region.add((i,j))\n",
    "                    val = gauss_pixprob((i,j), dep, sigma) * dep[3]\n",
    "                    int_charge+=val\n",
    "                    \n",
    "            if int_charge<0.05:\n",
    "                int_charge=np.nan\n",
    "            sub_array[i,j]=int_charge\n",
    "        \n",
    "    return sub_array, np.array(list(track_region))\n",
    "        \n",
    "def gauss_pixprob(coord_pix,means,sig,norm=1,dp=0.1):\n",
    "    #print(coord_pix)\n",
    "    x_min=coord_pix[0]\n",
    "    x_max=coord_pix[0]+1\n",
    "    y_min=coord_pix[1]\n",
    "    y_max=coord_pix[1]+1\n",
    "    #print(x_min,x_max,y_min,y_max)\n",
    "    x_range=np.arange(x_min,x_max,dp)\n",
    "    y_range=np.arange(y_min,y_max,dp)\n",
    "    \n",
    "    xx,yy=np.meshgrid(x_range,y_range)\n",
    "    \n",
    "    return(np.sum(gauss_2d((xx,yy), means,sig))*dp * dp)\n",
    "\n",
    "def gauss_2d(coord, means, sig,norm=1):\n",
    "    x=coord[0]\n",
    "    y=coord[1]\n",
    "    return norm*(stats.norm.pdf(x, means[0], sig) * stats.norm.pdf(y,means[1], sig))\n",
    "\n",
    "def calc_prob(track_dep, z0):\n",
    "    diff_factor = 0.00323\n",
    "    z_abs = z0 + 0.72 * 5 * track_dep[2] #0.72 microns/nanosecond\n",
    "    sigma = diff_factor * np.sqrt(z_abs)\n",
    "    \n",
    "    origin = (track_dep[0], track_dep[1])\n",
    "    charge = track_dep[3]\n",
    "    \n",
    "    x = np.arange(origin[0]-10, origin[0]+10, 0.1)#pixels\n",
    "    y = np.arange(origin[1]-10, origin[1]+10, 0.1) #pixels #1 micron bins\n",
    "    xx, yy = np.meshgrid(x,y)\n",
    "    \n",
    "    vals = gauss_2d((xx,yy), origin, sigma, charge)\n",
    "    \n",
    "    return(vals)\n",
    "\n",
    "def diffuse(track_dep, z0):\n",
    "    x=[]\n",
    "    y=[]\n",
    "    z=[]\n",
    "    diff_factor = 0.00323\n",
    "    z_abs = z0 + 0.72 * 5 * track_dep[2] #0.72 microns/nanosecond\n",
    "    sigma = diff_factor * np.sqrt(z_abs)\n",
    "    #print(track_dep[3])\n",
    "    for c in range(int(track_dep[3])):\n",
    "        x_new = np.random.normal(track_dep[0],sigma)\n",
    "        y_new = np.random.normal(track_dep[1],sigma)\n",
    "        x.append(x_new)\n",
    "        y.append(y_new)\n",
    "        z.append(z_abs)\n",
    "    return np.array([x,y,z])\n",
    "\n",
    "def label_nearby(deps,idx,track_idx):\n",
    "    #deps is depositions\n",
    "    #given a track_id, identify all pixels with track_id and then label all pixels touching track_id\n",
    "    \n",
    "    found=False\n",
    "    locs=[]\n",
    "    for start_pix in deps[np.argwhere(track_idx==idx)]:\n",
    "        #print(start_pix)\n",
    "        i_start=start_pix[0][0]\n",
    "        j_start=start_pix[0][1]\n",
    "        z_start=start_pix[0][2]\n",
    "        \n",
    "        for i, pixel in enumerate(deps):\n",
    "            \n",
    "            i_check=pixel[0]\n",
    "            j_check=pixel[1]\n",
    "            z_check=pixel[2]\n",
    "            \n",
    "            if (not np.isnan(track_idx[i])):\n",
    "                continue\n",
    "            #print(start_pix, pixel, diff[i-1])\n",
    "            #print(np.abs(z_start-z_check))\n",
    "            if(np.abs(z_start-z_check)<=2):\n",
    "                dist=np.sqrt((i_check-i_start)**2 + (j_check-j_start)**2)\n",
    "                if(dist<2):\n",
    "                    found=True\n",
    "                    track_idx[i]=idx+1\n",
    "                    locs.append(i)\n",
    "    branch_check = deps[np.argwhere(track_idx==idx+1)]\n",
    "    #print(locs)\n",
    "    x = branch_check[:,0][:,0]\n",
    "    y = branch_check[:,0][:,1]\n",
    "    new_branch=[np.argwhere(track_idx==idx+1)][0]\n",
    "    if (np.var(x) + np.var(y) >5):\n",
    "        #print('branch found', max(np.diff(x)), max(np.diff(y)))\n",
    "        max_loc = (np.argwhere(np.diff(y) == max(np.diff(y))))\n",
    "        #find largest diff in x and y\n",
    "        y0 = min(y)\n",
    "        y1 = max(y)\n",
    "        x0 = min(x)\n",
    "        x1 = max(x)\n",
    "        #print(y0,y1)\n",
    "        for i, val in enumerate(branch_check[:,0]):\n",
    "            if np.abs(val[0]-x0) >=3 or np.abs(val[1]-y0) >=3:\n",
    "                track_idx[new_branch[i]] = idx+1000\n",
    "    \n",
    "    if (not found):\n",
    "        #move on with next nan value\n",
    "        loc=np.min(np.argwhere(np.isnan(track_idx)))\n",
    "        track_idx[loc] = idx+1\n",
    "        \n",
    "    return track_idx\n",
    "def label_track(deps):\n",
    "    #label all depositions with track ids\n",
    "    track_idx=np.empty(len(deps))\n",
    "    track_idx[:]=np.nan\n",
    "    track_idx[0]=0\n",
    "    idx=0\n",
    "    while(np.isnan(np.sum(track_idx))):\n",
    "        track_idx=label_nearby(deps, idx, track_idx)\n",
    "          \n",
    "        idx +=1\n",
    "    return track_idx\n",
    "\n",
    "\n",
    "def average_track(track_ids, deps, charge):\n",
    "    avg_pixels=[]\n",
    "    var=[]\n",
    "    for pix_id in range(int(max(track_ids)+1)):\n",
    "\n",
    "        locs = (np.argwhere(track_ids==pix_id))\n",
    "        if(len(locs)==0):\n",
    "            continue\n",
    "        pixels = deps[locs][:,0]\n",
    "        var.append(np.var(pixels[:,0] + np.var(pixels[:,1])))\n",
    "        x_avg, x_var= weighted_avg_var(pixels[:,0], weights = charge[locs][:,0])\n",
    "        \n",
    "        #np.average(pixels[:,0], weights=charge[locs][:,0])\n",
    "        y_avg=np.average(pixels[:,1], weights=charge[locs][:,0])\n",
    "        z_avg=np.average(pixels[:,2], weights=charge[locs][:,0])\n",
    "        charge_sum = np.sum(charge[locs])\n",
    "        #print(var[-1],z_avg)\n",
    "        avg_pixels.append([x_avg,y_avg,z_avg, charge_sum])\n",
    "    \n",
    "    avg_pixels=np.array(avg_pixels)\n",
    "    \n",
    "    return avg_pixels,var"
   ]
  },
  {
   "cell_type": "code",
   "execution_count": 1042,
   "id": "8248f96a",
   "metadata": {},
   "outputs": [
    {
     "name": "stdout",
     "output_type": "stream",
     "text": [
      "259787\n"
     ]
    },
    {
     "data": {
      "text/plain": [
       "array([  0,   1,   2,   3,   4,   5,   6,   7,   8,   9,  10,  11,  12,\n",
       "        13,  14,  15,  16,  17,  18,  19,  20,  21,  22,  23,  24,  25,\n",
       "        26,  27,  28,  29,  30,  31,  32,  33,  34,  35,  36,  37,  38,\n",
       "        39,  40,  41,  42,  43,  44,  45,  46,  47,  48,  49,  50,  51,\n",
       "        52,  53,  54,  55,  56,  57,  58,  59,  60,  61,  62,  63,  64,\n",
       "        65,  66,  67,  68,  69,  70,  71,  72,  73,  74,  75,  76,  77,\n",
       "        78,  79,  80,  81,  82,  83,  84,  85,  86,  87,  88,  89,  90,\n",
       "        91,  92,  93,  94,  95,  96,  97,  98,  99, 100, 101, 102, 103,\n",
       "       104, 105, 106, 107, 108, 109, 110, 111, 112, 113, 114, 115, 116,\n",
       "       117, 118, 119, 120, 121, 122, 123, 124, 125])"
      ]
     },
     "execution_count": 1042,
     "metadata": {},
     "output_type": "execute_result"
    }
   ],
   "source": [
    "event_num = 0 #good ones: 0,2,6,13,14,9,15,11 sorta:5,10,11 bad:18(need to investigate this one), 4,1,8\n",
    "x_pix = tracks_t[\"x_pix\"].array()[event_num]\n",
    "y_pix = tracks_t[\"y_pix\"].array()[event_num]\n",
    "c_dep = tracks_t[\"depC_pix\"].array()[event_num]\n",
    "z_toa = tracks_t[\"z_toa\"].array()[event_num]\n",
    "mean_z = tracks_t[\"mean_z\"].array()[event_num]\n",
    "z_toa = z_toa - min(z_toa)+1\n",
    "print(np.sum(c_dep))\n",
    "binsx=np.arange(0,np.max(x_pix)+2,1)\n",
    "binsy=np.arange(0,np.max(y_pix)+2,1)\n",
    "binsx"
   ]
  },
  {
   "cell_type": "markdown",
   "id": "7e5e4775",
   "metadata": {},
   "source": [
    "Method: set start pixel idx to 0, set all touching pixels idx to 1 and repeat\n",
    "then average numbers\n"
   ]
  },
  {
   "cell_type": "code",
   "execution_count": 1046,
   "id": "474bba98",
   "metadata": {},
   "outputs": [
    {
     "name": "stdout",
     "output_type": "stream",
     "text": [
      "1 1\n",
      "1083.2501220703125\n",
      "259787.0\n"
     ]
    },
    {
     "data": {
      "text/plain": [
       "array([  1,   2,   3,   4,   5,   6,   7,   8,   9,  10,  11,  12,  13,\n",
       "        14,  15,  16,  17,  18,  19,  20,  21,  22,  23,  24,  25,  26,\n",
       "        27,  28,  29,  30,  31,  32,  33,  34,  35,  36,  37,  38,  39,\n",
       "        40,  41,  42,  43,  44,  45,  46,  47,  48,  49,  50,  51,  52,\n",
       "        53,  54,  55,  56,  57,  58,  59,  60,  61,  62,  63,  64,  65,\n",
       "        66,  67,  68,  69,  70,  71,  72,  73,  74,  75,  76,  77,  78,\n",
       "        79,  80,  81,  82,  83,  84,  85,  86,  87,  88,  89,  90,  91,\n",
       "        92,  93,  94,  95,  96,  97,  98,  99, 100, 101, 102, 103, 104,\n",
       "       105, 106, 107, 108, 109, 110, 111, 112, 113, 114, 115, 116, 117,\n",
       "       118, 119, 120, 121, 122, 123, 124, 125, 126])"
      ]
     },
     "execution_count": 1046,
     "metadata": {},
     "output_type": "execute_result"
    },
    {
     "data": {
      "image/png": "[encoded data removed]",
      "text/plain": [
       "<Figure size 1440x720 with 2 Axes>"
      ]
     },
     "metadata": {
      "needs_background": "light"
     },
     "output_type": "display_data"
    }
   ],
   "source": [
    "pix, xedges, yedges, image = plt.hist2d(x_pix, y_pix, (binsx+1, binsy+1), cmin=0.01, weights=c_dep)\n",
    "#plt.xticks(binsx)\n",
    "#plt.plot(locs[0],locs[1], 'go')\n",
    "plt.plot(x_pix[0], y_pix[0],'go')\n",
    "print(x_pix[0], y_pix[0])\n",
    "plt.colorbar()\n",
    "plt.xlim((0,10))\n",
    "plt.ylim((0,10))\n",
    "print(mean_z)\n",
    "plt.grid()\n",
    "print(np.nansum(pix))\n",
    "xedges"
   ]
  },
  {
   "cell_type": "code",
   "execution_count": 974,
   "id": "4b30e570",
   "metadata": {},
   "outputs": [],
   "source": [
    "pix_array=pix"
   ]
  },
  {
   "cell_type": "code",
   "execution_count": 975,
   "id": "56dbdc4d",
   "metadata": {},
   "outputs": [],
   "source": [
    "deps=np.dstack((np.array(x_pix),np.array(y_pix),np.array(z_toa)))[0]\n",
    "track_idx=np.empty(len(deps))\n",
    "track_idx[:]=np.nan\n",
    "track_idx[0]=0\n",
    "idx=0\n",
    "track_id=label_track(deps)"
   ]
  },
  {
   "cell_type": "code",
   "execution_count": 1051,
   "id": "abf86638",
   "metadata": {},
   "outputs": [],
   "source": [
    "avg_track ,var=average_track(track_id, deps, c_dep)"
   ]
  },
  {
   "cell_type": "code",
   "execution_count": 751,
   "id": "0151ce85",
   "metadata": {},
   "outputs": [
    {
     "name": "stdout",
     "output_type": "stream",
     "text": [
      "1045\n"
     ]
    },
    {
     "data": {
      "image/png": "[encoded data removed]",
      "text/plain": [
       "<Figure size 1440x720 with 2 Axes>"
      ]
     },
     "metadata": {
      "needs_background": "light"
     },
     "output_type": "display_data"
    }
   ],
   "source": [
    "x_new=[]\n",
    "y_new=[]\n",
    "#z=[]\n",
    "for val in avg_track:\n",
    "    z0=1000#um\n",
    "    x,y,z=diffuse(val, z0)\n",
    "    x_new.extend(x)\n",
    "    y_new.extend(y)\n",
    "    \n",
    "pix, xedges, yedges, image = plt.hist2d(x_new, y_new, (binsx, binsy),cmin=0.1)\n",
    "plt.colorbar()\n",
    "print(np.count_nonzero(~np.isnan(pix)))\n",
    "\n",
    "#plt.xlim((0,10))\n",
    "#plt.ylim((0,10))"
   ]
  },
  {
   "cell_type": "code",
   "execution_count": 1040,
   "id": "8eb06c91",
   "metadata": {},
   "outputs": [
    {
     "data": {
      "image/png": "[encoded data removed]",
      "text/plain": [
       "<Figure size 1440x720 with 2 Axes>"
      ]
     },
     "metadata": {
      "needs_background": "light"
     },
     "output_type": "display_data"
    }
   ],
   "source": [
    "pix, xedges, yedges, image = plt.hist2d(x_pix, y_pix, (binsx,binsy) ,cmin=0.01, weights=c_dep, vmax=800)\n",
    "plt.colorbar()\n",
    "plt.xticks(binsx)\n",
    "plt.yticks(binsy)\n",
    "plt.xlim((1,10))\n",
    "plt.ylim((1,10))\n",
    "plt.grid()"
   ]
  },
  {
   "cell_type": "code",
   "execution_count": 920,
   "id": "bb54dce9",
   "metadata": {},
   "outputs": [
    {
     "data": {
      "image/png": "[encoded data removed]",
      "text/plain": [
       "<Figure size 1440x720 with 1 Axes>"
      ]
     },
     "metadata": {
      "needs_background": "light"
     },
     "output_type": "display_data"
    }
   ],
   "source": [
    "plt.scatter(avg_track[:,0],avg_track[:,1])\n",
    "plt.xticks(binsx)\n",
    "plt.yticks(binsy)\n",
    "#plt.xlim((0,10))\n",
    "#plt.ylim((0,10))\n",
    "plt.grid()"
   ]
  },
  {
   "cell_type": "code",
   "execution_count": 708,
   "id": "92f199af",
   "metadata": {
    "scrolled": true
   },
   "outputs": [
    {
     "name": "stdout",
     "output_type": "stream",
     "text": [
      "[[nan nan nan nan nan nan nan nan nan nan]\n",
      " [nan nan nan nan nan nan nan nan nan nan]\n",
      " [nan nan nan nan nan nan nan nan nan nan]\n",
      " [nan nan nan nan nan nan nan nan nan nan]\n",
      " [nan nan nan nan nan nan nan nan nan nan]\n",
      " [nan nan nan nan nan nan nan nan nan nan]\n",
      " [nan nan nan nan nan nan nan nan nan nan]\n",
      " [nan nan nan nan nan nan nan nan nan nan]\n",
      " [nan nan nan nan nan nan nan nan nan nan]\n",
      " [nan nan nan nan nan nan nan nan nan nan]]\n"
     ]
    },
    {
     "ename": "KeyboardInterrupt",
     "evalue": "",
     "output_type": "error",
     "traceback": [
      "\u001b[0;31m---------------------------------------------------------------------------\u001b[0m",
      "\u001b[0;31mKeyboardInterrupt\u001b[0m                         Traceback (most recent call last)",
      "\u001b[0;32m/var/folders/ng/nzc5m6m105d49gp2r87w7mjm0000gn/T/ipykernel_7831/869263517.py\u001b[0m in \u001b[0;36m<module>\u001b[0;34m\u001b[0m\n\u001b[1;32m     20\u001b[0m \u001b[0;34m\u001b[0m\u001b[0m\n\u001b[1;32m     21\u001b[0m         \u001b[0;32mfor\u001b[0m \u001b[0mdep\u001b[0m \u001b[0;32min\u001b[0m \u001b[0mavg_track\u001b[0m\u001b[0;34m:\u001b[0m\u001b[0;34m\u001b[0m\u001b[0;34m\u001b[0m\u001b[0m\n\u001b[0;32m---> 22\u001b[0;31m             \u001b[0mdist\u001b[0m\u001b[0;34m=\u001b[0m\u001b[0mnp\u001b[0m\u001b[0;34m.\u001b[0m\u001b[0msqrt\u001b[0m\u001b[0;34m(\u001b[0m\u001b[0;34m(\u001b[0m\u001b[0mi\u001b[0m\u001b[0;34m-\u001b[0m\u001b[0mdep\u001b[0m\u001b[0;34m[\u001b[0m\u001b[0;36m0\u001b[0m\u001b[0;34m]\u001b[0m\u001b[0;34m)\u001b[0m\u001b[0;34m**\u001b[0m\u001b[0;36m2\u001b[0m \u001b[0;34m+\u001b[0m \u001b[0;34m(\u001b[0m\u001b[0mj\u001b[0m\u001b[0;34m-\u001b[0m\u001b[0mdep\u001b[0m\u001b[0;34m[\u001b[0m\u001b[0;36m1\u001b[0m\u001b[0;34m]\u001b[0m\u001b[0;34m)\u001b[0m\u001b[0;34m**\u001b[0m\u001b[0;36m2\u001b[0m\u001b[0;34m)\u001b[0m\u001b[0;34m\u001b[0m\u001b[0;34m\u001b[0m\u001b[0m\n\u001b[0m\u001b[1;32m     23\u001b[0m \u001b[0;34m\u001b[0m\u001b[0m\n\u001b[1;32m     24\u001b[0m             \u001b[0mdiff_factor\u001b[0m \u001b[0;34m=\u001b[0m \u001b[0;36m0.00323\u001b[0m\u001b[0;34m\u001b[0m\u001b[0;34m\u001b[0m\u001b[0m\n",
      "\u001b[0;31mKeyboardInterrupt\u001b[0m: "
     ]
    }
   ],
   "source": [
    "# want to calculate the expected amount of charge for a given pixel given a z and a deconvolved track\n",
    "#say we are at pixel i,j = 0,0\n",
    "#there is a given range for which depositions might deposit charge at that pixel (ie dont want to scan all depositions)\n",
    "#say that number is 10 pixels (probably large)\n",
    "#we then look at depositions within i+/-10, j+/10 (100 pixels, probably large)\n",
    "#check maxes\n",
    "#check for depositions within region\n",
    "\n",
    "x_max=125\n",
    "y_max=370\n",
    "sub_array=np.empty((x_max,y_max))\n",
    "#nt_charge=0\n",
    "#print(sub_array)\n",
    "print((pix[0:10,0:10]))\n",
    "z0=1000\n",
    "for i in range(0,x_max):\n",
    "    for j in range(0,y_max):\n",
    "        #print(i,j)\n",
    "        int_charge=0\n",
    "    \n",
    "        for dep in avg_track:\n",
    "            dist=np.sqrt((i-dep[0])**2 + (j-dep[1])**2)  \n",
    "    \n",
    "            diff_factor = 0.00323\n",
    "            z_abs = z0 + 0.72 * 5 * dep[2] #0.72 microns/nanosecond\n",
    "            sigma = diff_factor * np.sqrt(z_abs)\n",
    "            \n",
    "            if dist<=5:\n",
    "                val = gauss_pixprob((i,j), dep, sigma) * dep[3]\n",
    "                int_charge+=val\n",
    "        #print(int_charge)\n",
    "        if int_charge<0.05:\n",
    "            int_charge=np.nan\n",
    "        #print(int_charge)\n",
    "        sub_array[i,j]=int_charge\n",
    "        \n",
    "#print(np.nansum(sub_array))        "
   ]
  },
  {
   "cell_type": "code",
   "execution_count": 1027,
   "id": "342ac405",
   "metadata": {},
   "outputs": [],
   "source": [
    "test, coords=prob_array(avg_track,1000)"
   ]
  },
  {
   "cell_type": "code",
   "execution_count": 1020,
   "id": "ea6a53a6",
   "metadata": {
    "scrolled": true
   },
   "outputs": [
    {
     "name": "stdout",
     "output_type": "stream",
     "text": [
      "259786.41968057276\n",
      "33026\n"
     ]
    },
    {
     "data": {
      "image/png": "[encoded data removed]",
      "text/plain": [
       "<Figure size 1440x720 with 2 Axes>"
      ]
     },
     "metadata": {
      "needs_background": "light"
     },
     "output_type": "display_data"
    }
   ],
   "source": [
    "plt.imshow(test.T,origin=\"lower\")\n",
    "plt.colorbar()\n",
    "print(np.nansum(test))\n",
    "#print(max(sub_array.flatten()))\n",
    "plt.xlim((0,10))\n",
    "plt.ylim((0,10))\n",
    "plt.grid()\n",
    "print(np.count_nonzero(~np.isnan(sub_array)))"
   ]
  },
  {
   "cell_type": "code",
   "execution_count": 1058,
   "id": "3c789256",
   "metadata": {
    "scrolled": true
   },
   "outputs": [
    {
     "data": {
      "text/plain": [
       "1.236024508080607"
      ]
     },
     "execution_count": 1058,
     "metadata": {},
     "output_type": "execute_result"
    }
   ],
   "source": [
    "np.nansum(stats.poisson.pmf(pix[coords[:,0], coords[:,1]], test[coords[:,0], coords[:,1]]))"
   ]
  },
  {
   "cell_type": "code",
   "execution_count": 1024,
   "id": "bcb263dc",
   "metadata": {},
   "outputs": [
    {
     "ename": "KeyboardInterrupt",
     "evalue": "",
     "output_type": "error",
     "traceback": [
      "\u001b[0;31m---------------------------------------------------------------------------\u001b[0m",
      "\u001b[0;31mKeyboardInterrupt\u001b[0m                         Traceback (most recent call last)",
      "\u001b[0;32m/var/folders/ng/nzc5m6m105d49gp2r87w7mjm0000gn/T/ipykernel_7831/2495809420.py\u001b[0m in \u001b[0;36m<module>\u001b[0;34m\u001b[0m\n\u001b[1;32m      3\u001b[0m \u001b[0;34m\u001b[0m\u001b[0m\n\u001b[1;32m      4\u001b[0m \u001b[0;32mfor\u001b[0m \u001b[0mz0\u001b[0m \u001b[0;32min\u001b[0m \u001b[0mz_deps\u001b[0m\u001b[0;34m:\u001b[0m\u001b[0;34m\u001b[0m\u001b[0;34m\u001b[0m\u001b[0m\n\u001b[0;32m----> 5\u001b[0;31m     \u001b[0mtest\u001b[0m\u001b[0;34m,\u001b[0m \u001b[0mcoords\u001b[0m\u001b[0;34m=\u001b[0m\u001b[0mprob_array\u001b[0m\u001b[0;34m(\u001b[0m\u001b[0mavg_track\u001b[0m\u001b[0;34m,\u001b[0m\u001b[0mz0\u001b[0m\u001b[0;34m)\u001b[0m\u001b[0;34m\u001b[0m\u001b[0;34m\u001b[0m\u001b[0m\n\u001b[0m\u001b[1;32m      6\u001b[0m     \u001b[0ml\u001b[0m\u001b[0;34m.\u001b[0m\u001b[0mappend\u001b[0m\u001b[0;34m(\u001b[0m\u001b[0mnp\u001b[0m\u001b[0;34m.\u001b[0m\u001b[0mnansum\u001b[0m\u001b[0;34m(\u001b[0m\u001b[0mstats\u001b[0m\u001b[0;34m.\u001b[0m\u001b[0mpoisson\u001b[0m\u001b[0;34m.\u001b[0m\u001b[0mpmf\u001b[0m\u001b[0;34m(\u001b[0m\u001b[0mpix\u001b[0m\u001b[0;34m[\u001b[0m\u001b[0mcoords\u001b[0m\u001b[0;34m[\u001b[0m\u001b[0;34m:\u001b[0m\u001b[0;34m,\u001b[0m\u001b[0;36m0\u001b[0m\u001b[0;34m]\u001b[0m\u001b[0;34m,\u001b[0m \u001b[0mcoords\u001b[0m\u001b[0;34m[\u001b[0m\u001b[0;34m:\u001b[0m\u001b[0;34m,\u001b[0m\u001b[0;36m1\u001b[0m\u001b[0;34m]\u001b[0m\u001b[0;34m]\u001b[0m\u001b[0;34m,\u001b[0m \u001b[0mtest\u001b[0m\u001b[0;34m[\u001b[0m\u001b[0mcoords\u001b[0m\u001b[0;34m[\u001b[0m\u001b[0;34m:\u001b[0m\u001b[0;34m,\u001b[0m\u001b[0;36m0\u001b[0m\u001b[0;34m]\u001b[0m\u001b[0;34m,\u001b[0m \u001b[0mcoords\u001b[0m\u001b[0;34m[\u001b[0m\u001b[0;34m:\u001b[0m\u001b[0;34m,\u001b[0m\u001b[0;36m1\u001b[0m\u001b[0;34m]\u001b[0m\u001b[0;34m]\u001b[0m\u001b[0;34m)\u001b[0m\u001b[0;34m)\u001b[0m\u001b[0;34m)\u001b[0m\u001b[0;34m\u001b[0m\u001b[0;34m\u001b[0m\u001b[0m\n\u001b[1;32m      7\u001b[0m \u001b[0;34m\u001b[0m\u001b[0m\n",
      "\u001b[0;32m/var/folders/ng/nzc5m6m105d49gp2r87w7mjm0000gn/T/ipykernel_7831/3669125222.py\u001b[0m in \u001b[0;36mprob_array\u001b[0;34m(avg_track, z0, tol_distance)\u001b[0m\n\u001b[1;32m     29\u001b[0m                 \u001b[0;32mif\u001b[0m \u001b[0mdist\u001b[0m\u001b[0;34m<=\u001b[0m\u001b[0mtol_distance\u001b[0m\u001b[0;34m:\u001b[0m\u001b[0;34m\u001b[0m\u001b[0;34m\u001b[0m\u001b[0m\n\u001b[1;32m     30\u001b[0m                     \u001b[0mtrack_region\u001b[0m\u001b[0;34m.\u001b[0m\u001b[0madd\u001b[0m\u001b[0;34m(\u001b[0m\u001b[0;34m(\u001b[0m\u001b[0mi\u001b[0m\u001b[0;34m,\u001b[0m\u001b[0mj\u001b[0m\u001b[0;34m)\u001b[0m\u001b[0;34m)\u001b[0m\u001b[0;34m\u001b[0m\u001b[0;34m\u001b[0m\u001b[0m\n\u001b[0;32m---> 31\u001b[0;31m                     \u001b[0mval\u001b[0m \u001b[0;34m=\u001b[0m \u001b[0mgauss_pixprob\u001b[0m\u001b[0;34m(\u001b[0m\u001b[0;34m(\u001b[0m\u001b[0mi\u001b[0m\u001b[0;34m,\u001b[0m\u001b[0mj\u001b[0m\u001b[0;34m)\u001b[0m\u001b[0;34m,\u001b[0m \u001b[0mdep\u001b[0m\u001b[0;34m,\u001b[0m \u001b[0msigma\u001b[0m\u001b[0;34m)\u001b[0m \u001b[0;34m*\u001b[0m \u001b[0mdep\u001b[0m\u001b[0;34m[\u001b[0m\u001b[0;36m3\u001b[0m\u001b[0;34m]\u001b[0m\u001b[0;34m\u001b[0m\u001b[0;34m\u001b[0m\u001b[0m\n\u001b[0m\u001b[1;32m     32\u001b[0m                     \u001b[0mint_charge\u001b[0m\u001b[0;34m+=\u001b[0m\u001b[0mval\u001b[0m\u001b[0;34m\u001b[0m\u001b[0;34m\u001b[0m\u001b[0m\n\u001b[1;32m     33\u001b[0m \u001b[0;34m\u001b[0m\u001b[0m\n",
      "\u001b[0;32m/var/folders/ng/nzc5m6m105d49gp2r87w7mjm0000gn/T/ipykernel_7831/3669125222.py\u001b[0m in \u001b[0;36mgauss_pixprob\u001b[0;34m(coord_pix, means, sig, norm, dp)\u001b[0m\n\u001b[1;32m     50\u001b[0m     \u001b[0mxx\u001b[0m\u001b[0;34m,\u001b[0m\u001b[0myy\u001b[0m\u001b[0;34m=\u001b[0m\u001b[0mnp\u001b[0m\u001b[0;34m.\u001b[0m\u001b[0mmeshgrid\u001b[0m\u001b[0;34m(\u001b[0m\u001b[0mx_range\u001b[0m\u001b[0;34m,\u001b[0m\u001b[0my_range\u001b[0m\u001b[0;34m)\u001b[0m\u001b[0;34m\u001b[0m\u001b[0;34m\u001b[0m\u001b[0m\n\u001b[1;32m     51\u001b[0m \u001b[0;34m\u001b[0m\u001b[0m\n\u001b[0;32m---> 52\u001b[0;31m     \u001b[0;32mreturn\u001b[0m\u001b[0;34m(\u001b[0m\u001b[0mnp\u001b[0m\u001b[0;34m.\u001b[0m\u001b[0msum\u001b[0m\u001b[0;34m(\u001b[0m\u001b[0mgauss_2d\u001b[0m\u001b[0;34m(\u001b[0m\u001b[0;34m(\u001b[0m\u001b[0mxx\u001b[0m\u001b[0;34m,\u001b[0m\u001b[0myy\u001b[0m\u001b[0;34m)\u001b[0m\u001b[0;34m,\u001b[0m \u001b[0mmeans\u001b[0m\u001b[0;34m,\u001b[0m\u001b[0msig\u001b[0m\u001b[0;34m)\u001b[0m\u001b[0;34m)\u001b[0m\u001b[0;34m*\u001b[0m\u001b[0mdp\u001b[0m \u001b[0;34m*\u001b[0m \u001b[0mdp\u001b[0m\u001b[0;34m)\u001b[0m\u001b[0;34m\u001b[0m\u001b[0;34m\u001b[0m\u001b[0m\n\u001b[0m\u001b[1;32m     53\u001b[0m \u001b[0;34m\u001b[0m\u001b[0m\n\u001b[1;32m     54\u001b[0m \u001b[0;32mdef\u001b[0m \u001b[0mgauss_2d\u001b[0m\u001b[0;34m(\u001b[0m\u001b[0mcoord\u001b[0m\u001b[0;34m,\u001b[0m \u001b[0mmeans\u001b[0m\u001b[0;34m,\u001b[0m \u001b[0msig\u001b[0m\u001b[0;34m,\u001b[0m\u001b[0mnorm\u001b[0m\u001b[0;34m=\u001b[0m\u001b[0;36m1\u001b[0m\u001b[0;34m)\u001b[0m\u001b[0;34m:\u001b[0m\u001b[0;34m\u001b[0m\u001b[0;34m\u001b[0m\u001b[0m\n",
      "\u001b[0;32m/var/folders/ng/nzc5m6m105d49gp2r87w7mjm0000gn/T/ipykernel_7831/3669125222.py\u001b[0m in \u001b[0;36mgauss_2d\u001b[0;34m(coord, means, sig, norm)\u001b[0m\n\u001b[1;32m     55\u001b[0m     \u001b[0mx\u001b[0m\u001b[0;34m=\u001b[0m\u001b[0mcoord\u001b[0m\u001b[0;34m[\u001b[0m\u001b[0;36m0\u001b[0m\u001b[0;34m]\u001b[0m\u001b[0;34m\u001b[0m\u001b[0;34m\u001b[0m\u001b[0m\n\u001b[1;32m     56\u001b[0m     \u001b[0my\u001b[0m\u001b[0;34m=\u001b[0m\u001b[0mcoord\u001b[0m\u001b[0;34m[\u001b[0m\u001b[0;36m1\u001b[0m\u001b[0;34m]\u001b[0m\u001b[0;34m\u001b[0m\u001b[0;34m\u001b[0m\u001b[0m\n\u001b[0;32m---> 57\u001b[0;31m     \u001b[0;32mreturn\u001b[0m \u001b[0mnorm\u001b[0m\u001b[0;34m*\u001b[0m\u001b[0;34m(\u001b[0m\u001b[0mstats\u001b[0m\u001b[0;34m.\u001b[0m\u001b[0mnorm\u001b[0m\u001b[0;34m.\u001b[0m\u001b[0mpdf\u001b[0m\u001b[0;34m(\u001b[0m\u001b[0mx\u001b[0m\u001b[0;34m,\u001b[0m \u001b[0mmeans\u001b[0m\u001b[0;34m[\u001b[0m\u001b[0;36m0\u001b[0m\u001b[0;34m]\u001b[0m\u001b[0;34m,\u001b[0m \u001b[0msig\u001b[0m\u001b[0;34m)\u001b[0m \u001b[0;34m*\u001b[0m \u001b[0mstats\u001b[0m\u001b[0;34m.\u001b[0m\u001b[0mnorm\u001b[0m\u001b[0;34m.\u001b[0m\u001b[0mpdf\u001b[0m\u001b[0;34m(\u001b[0m\u001b[0my\u001b[0m\u001b[0;34m,\u001b[0m\u001b[0mmeans\u001b[0m\u001b[0;34m[\u001b[0m\u001b[0;36m1\u001b[0m\u001b[0;34m]\u001b[0m\u001b[0;34m,\u001b[0m \u001b[0msig\u001b[0m\u001b[0;34m)\u001b[0m\u001b[0;34m)\u001b[0m\u001b[0;34m\u001b[0m\u001b[0;34m\u001b[0m\u001b[0m\n\u001b[0m\u001b[1;32m     58\u001b[0m \u001b[0;34m\u001b[0m\u001b[0m\n\u001b[1;32m     59\u001b[0m \u001b[0;32mdef\u001b[0m \u001b[0mcalc_prob\u001b[0m\u001b[0;34m(\u001b[0m\u001b[0mtrack_dep\u001b[0m\u001b[0;34m,\u001b[0m \u001b[0mz0\u001b[0m\u001b[0;34m)\u001b[0m\u001b[0;34m:\u001b[0m\u001b[0;34m\u001b[0m\u001b[0;34m\u001b[0m\u001b[0m\n",
      "\u001b[0;32m/opt/homebrew/lib/python3.9/site-packages/scipy/stats/_distn_infrastructure.py\u001b[0m in \u001b[0;36mpdf\u001b[0;34m(self, x, *args, **kwds)\u001b[0m\n\u001b[1;32m   1902\u001b[0m         \u001b[0margs\u001b[0m \u001b[0;34m=\u001b[0m \u001b[0mtuple\u001b[0m\u001b[0;34m(\u001b[0m\u001b[0mmap\u001b[0m\u001b[0;34m(\u001b[0m\u001b[0masarray\u001b[0m\u001b[0;34m,\u001b[0m \u001b[0margs\u001b[0m\u001b[0;34m)\u001b[0m\u001b[0;34m)\u001b[0m\u001b[0;34m\u001b[0m\u001b[0;34m\u001b[0m\u001b[0m\n\u001b[1;32m   1903\u001b[0m         \u001b[0mdtyp\u001b[0m \u001b[0;34m=\u001b[0m \u001b[0mnp\u001b[0m\u001b[0;34m.\u001b[0m\u001b[0mfind_common_type\u001b[0m\u001b[0;34m(\u001b[0m\u001b[0;34m[\u001b[0m\u001b[0mx\u001b[0m\u001b[0;34m.\u001b[0m\u001b[0mdtype\u001b[0m\u001b[0;34m,\u001b[0m \u001b[0mnp\u001b[0m\u001b[0;34m.\u001b[0m\u001b[0mfloat64\u001b[0m\u001b[0;34m]\u001b[0m\u001b[0;34m,\u001b[0m \u001b[0;34m[\u001b[0m\u001b[0;34m]\u001b[0m\u001b[0;34m)\u001b[0m\u001b[0;34m\u001b[0m\u001b[0;34m\u001b[0m\u001b[0m\n\u001b[0;32m-> 1904\u001b[0;31m         \u001b[0mx\u001b[0m \u001b[0;34m=\u001b[0m \u001b[0mnp\u001b[0m\u001b[0;34m.\u001b[0m\u001b[0masarray\u001b[0m\u001b[0;34m(\u001b[0m\u001b[0;34m(\u001b[0m\u001b[0mx\u001b[0m \u001b[0;34m-\u001b[0m \u001b[0mloc\u001b[0m\u001b[0;34m)\u001b[0m\u001b[0;34m/\u001b[0m\u001b[0mscale\u001b[0m\u001b[0;34m,\u001b[0m \u001b[0mdtype\u001b[0m\u001b[0;34m=\u001b[0m\u001b[0mdtyp\u001b[0m\u001b[0;34m)\u001b[0m\u001b[0;34m\u001b[0m\u001b[0;34m\u001b[0m\u001b[0m\n\u001b[0m\u001b[1;32m   1905\u001b[0m         \u001b[0mcond0\u001b[0m \u001b[0;34m=\u001b[0m \u001b[0mself\u001b[0m\u001b[0;34m.\u001b[0m\u001b[0m_argcheck\u001b[0m\u001b[0;34m(\u001b[0m\u001b[0;34m*\u001b[0m\u001b[0margs\u001b[0m\u001b[0;34m)\u001b[0m \u001b[0;34m&\u001b[0m \u001b[0;34m(\u001b[0m\u001b[0mscale\u001b[0m \u001b[0;34m>\u001b[0m \u001b[0;36m0\u001b[0m\u001b[0;34m)\u001b[0m\u001b[0;34m\u001b[0m\u001b[0;34m\u001b[0m\u001b[0m\n\u001b[1;32m   1906\u001b[0m         \u001b[0mcond1\u001b[0m \u001b[0;34m=\u001b[0m \u001b[0mself\u001b[0m\u001b[0;34m.\u001b[0m\u001b[0m_support_mask\u001b[0m\u001b[0;34m(\u001b[0m\u001b[0mx\u001b[0m\u001b[0;34m,\u001b[0m \u001b[0;34m*\u001b[0m\u001b[0margs\u001b[0m\u001b[0;34m)\u001b[0m \u001b[0;34m&\u001b[0m \u001b[0;34m(\u001b[0m\u001b[0mscale\u001b[0m \u001b[0;34m>\u001b[0m \u001b[0;36m0\u001b[0m\u001b[0;34m)\u001b[0m\u001b[0;34m\u001b[0m\u001b[0;34m\u001b[0m\u001b[0m\n",
      "\u001b[0;31mKeyboardInterrupt\u001b[0m: "
     ]
    }
   ],
   "source": [
    "z_deps = np.arange(0,5000,500)\n",
    "l=[]\n",
    "\n",
    "for z0 in z_deps:\n",
    "    test, coords=prob_array(avg_track,z0)\n",
    "    l.append(np.nansum(stats.poisson.pmf(pix[coords[:,0], coords[:,1]], test[coords[:,0], coords[:,1]])))\n",
    "\n"
   ]
  },
  {
   "cell_type": "code",
   "execution_count": null,
   "id": "c3b5fe6e",
   "metadata": {},
   "outputs": [],
   "source": [
    "plt.plot(z_deps,l)\n",
    "mean_z"
   ]
  },
  {
   "cell_type": "code",
   "execution_count": 92,
   "id": "bf8277fb",
   "metadata": {
    "collapsed": true
   },
   "outputs": [
    {
     "name": "stdout",
     "output_type": "stream",
     "text": [
      "1\n",
      "2\n",
      "3\n",
      "4\n",
      "5\n",
      "6\n",
      "7\n",
      "8\n",
      "9\n",
      "10\n",
      "11\n",
      "12\n",
      "13\n",
      "14\n",
      "15\n",
      "16\n",
      "17\n",
      "18\n",
      "19\n",
      "20\n",
      "21\n",
      "22\n",
      "23\n",
      "24\n",
      "25\n",
      "26\n",
      "27\n",
      "28\n",
      "29\n",
      "30\n",
      "31\n",
      "32\n",
      "33\n",
      "34\n",
      "35\n",
      "36\n",
      "37\n",
      "38\n",
      "39\n",
      "40\n",
      "41\n",
      "42\n",
      "43\n",
      "44\n",
      "45\n",
      "46\n",
      "47\n",
      "48\n",
      "49\n",
      "50\n"
     ]
    },
    {
     "data": {
      "image/png": "[encoded data removed]",
      "text/plain": [
       "<Figure size 720x360 with 1 Axes>"
      ]
     },
     "metadata": {
      "needs_background": "light"
     },
     "output_type": "display_data"
    }
   ],
   "source": [
    "#we want to look at variances of x,y over many tracks to see correlations in z position\n",
    "#say we diffuse a single track over many different z, what does the variance look like \n",
    "x_new=[]\n",
    "y_new=[]\n",
    "xyvar=[]\n",
    "z_dep=[]\n",
    "xyvar_pix=[]\n",
    "rand_z = np.random.random(50) * 6000\n",
    "track_dep=[]\n",
    "\n",
    "for z_val in rand_z:\n",
    "    for val in avg_track:\n",
    "        z0=z_val#um\n",
    "        x,y,z=diffuse(val, z0)\n",
    "            \n",
    "        x_new.extend(x)\n",
    "        y_new.extend(y)\n",
    "        x_p = np.rint(x)\n",
    "        y_p = np.rint(y)\n",
    "    \n",
    "        #xyvar_pix.append(np.var(x_p) + np.var(y_p))\n",
    "        #xyvar.append(np.var(x) + np.var(y))\n",
    "        #z_dep.append(z[0])\n",
    "\n",
    "    pix, xedges, yedges, image = plt.hist2d(x_new, y_new, (max(x_pix), max(y_pix)),cmin=0.01)\n",
    "    track_dep.append(np.count_nonzero(~np.isnan(pix)))\n",
    "    #print(len(track_dep))"
   ]
  },
  {
   "cell_type": "code",
   "execution_count": 67,
   "id": "90b251c7",
   "metadata": {},
   "outputs": [
    {
     "name": "stdout",
     "output_type": "stream",
     "text": [
      "0\n",
      "1\n",
      "2\n",
      "3\n",
      "4\n",
      "5\n",
      "6\n",
      "7\n",
      "8\n",
      "9\n",
      "10\n",
      "11\n",
      "12\n",
      "13\n",
      "14\n",
      "15\n",
      "16\n",
      "17\n",
      "18\n",
      "19\n",
      "20\n",
      "21\n",
      "22\n",
      "23\n",
      "24\n",
      "25\n",
      "26\n",
      "27\n",
      "28\n",
      "29\n",
      "30\n",
      "31\n",
      "32\n",
      "33\n",
      "34\n",
      "35\n",
      "36\n",
      "37\n",
      "38\n",
      "39\n",
      "40\n",
      "41\n",
      "42\n",
      "43\n",
      "44\n",
      "45\n",
      "46\n",
      "47\n",
      "48\n",
      "49\n",
      "50\n",
      "51\n",
      "52\n",
      "53\n",
      "54\n",
      "55\n",
      "56\n",
      "57\n",
      "58\n",
      "59\n",
      "60\n",
      "61\n",
      "62\n",
      "63\n",
      "64\n",
      "65\n",
      "66\n",
      "67\n",
      "68\n",
      "69\n",
      "70\n",
      "71\n",
      "72\n",
      "73\n",
      "74\n",
      "75\n",
      "76\n",
      "77\n",
      "78\n",
      "79\n",
      "80\n",
      "81\n",
      "82\n",
      "83\n",
      "84\n",
      "85\n",
      "86\n",
      "87\n",
      "88\n",
      "89\n",
      "90\n",
      "91\n",
      "92\n",
      "93\n",
      "94\n",
      "95\n",
      "96\n",
      "97\n",
      "98\n",
      "99\n",
      "100\n",
      "101\n",
      "102\n",
      "103\n",
      "104\n",
      "105\n",
      "106\n",
      "107\n",
      "108\n",
      "109\n",
      "110\n",
      "111\n",
      "112\n",
      "113\n",
      "114\n",
      "115\n",
      "116\n",
      "117\n",
      "118\n",
      "119\n",
      "120\n",
      "121\n",
      "122\n",
      "123\n",
      "124\n",
      "125\n",
      "126\n",
      "127\n",
      "128\n",
      "129\n",
      "130\n",
      "131\n",
      "132\n",
      "133\n",
      "134\n",
      "135\n",
      "136\n",
      "137\n",
      "138\n",
      "139\n",
      "140\n",
      "141\n",
      "142\n",
      "143\n",
      "144\n",
      "145\n",
      "146\n",
      "147\n",
      "148\n",
      "149\n",
      "150\n",
      "151\n",
      "152\n",
      "153\n",
      "154\n",
      "155\n",
      "156\n",
      "157\n",
      "158\n",
      "159\n",
      "160\n",
      "161\n",
      "162\n",
      "163\n",
      "164\n",
      "165\n",
      "166\n",
      "167\n",
      "168\n",
      "169\n",
      "170\n",
      "171\n",
      "172\n",
      "173\n",
      "174\n",
      "175\n",
      "176\n",
      "177\n",
      "178\n",
      "179\n",
      "180\n",
      "181\n",
      "182\n",
      "183\n",
      "184\n",
      "185\n",
      "186\n",
      "187\n",
      "188\n",
      "189\n",
      "190\n",
      "191\n",
      "192\n",
      "193\n",
      "194\n",
      "195\n",
      "196\n",
      "197\n",
      "198\n",
      "199\n",
      "200\n",
      "201\n",
      "202\n",
      "203\n",
      "204\n",
      "205\n",
      "206\n",
      "207\n",
      "208\n",
      "209\n",
      "210\n",
      "211\n",
      "212\n",
      "213\n",
      "214\n",
      "215\n",
      "216\n",
      "217\n",
      "218\n",
      "219\n",
      "220\n",
      "221\n",
      "222\n",
      "223\n",
      "224\n",
      "225\n",
      "226\n",
      "227\n",
      "228\n",
      "229\n",
      "230\n",
      "231\n",
      "232\n",
      "233\n",
      "234\n",
      "235\n",
      "236\n",
      "237\n",
      "238\n",
      "239\n",
      "240\n",
      "241\n",
      "242\n",
      "243\n",
      "244\n",
      "245\n",
      "246\n",
      "247\n",
      "248\n",
      "249\n",
      "250\n",
      "251\n",
      "252\n",
      "253\n",
      "254\n",
      "255\n",
      "256\n",
      "257\n",
      "258\n",
      "259\n",
      "260\n",
      "261\n",
      "262\n",
      "263\n",
      "264\n",
      "265\n",
      "266\n",
      "267\n",
      "268\n",
      "269\n",
      "270\n",
      "271\n",
      "272\n",
      "273\n",
      "274\n",
      "275\n",
      "276\n",
      "277\n",
      "278\n",
      "279\n",
      "280\n",
      "281\n",
      "282\n",
      "283\n",
      "284\n",
      "285\n",
      "286\n",
      "287\n",
      "288\n",
      "289\n",
      "290\n",
      "291\n",
      "292\n",
      "293\n",
      "294\n",
      "295\n",
      "296\n",
      "297\n",
      "298\n",
      "299\n",
      "300\n",
      "301\n",
      "302\n",
      "303\n",
      "304\n",
      "305\n",
      "306\n",
      "307\n",
      "308\n",
      "309\n",
      "310\n",
      "311\n",
      "312\n",
      "313\n",
      "314\n",
      "315\n",
      "316\n",
      "317\n",
      "318\n",
      "319\n",
      "320\n",
      "321\n",
      "322\n",
      "323\n",
      "324\n",
      "325\n",
      "326\n",
      "327\n",
      "328\n",
      "329\n",
      "330\n",
      "331\n",
      "332\n",
      "333\n",
      "334\n",
      "335\n",
      "336\n",
      "337\n",
      "338\n",
      "339\n",
      "340\n",
      "341\n",
      "342\n",
      "343\n",
      "344\n",
      "345\n",
      "346\n",
      "347\n",
      "348\n",
      "349\n",
      "350\n",
      "351\n",
      "352\n",
      "353\n",
      "354\n",
      "355\n",
      "356\n",
      "357\n",
      "358\n",
      "359\n",
      "360\n",
      "361\n",
      "362\n",
      "363\n",
      "364\n",
      "365\n",
      "366\n",
      "367\n",
      "368\n",
      "369\n",
      "370\n",
      "371\n",
      "372\n",
      "373\n",
      "374\n",
      "375\n",
      "376\n",
      "377\n",
      "378\n",
      "379\n",
      "380\n",
      "381\n",
      "382\n",
      "383\n",
      "384\n",
      "385\n",
      "386\n",
      "387\n",
      "388\n",
      "389\n",
      "390\n",
      "391\n",
      "392\n",
      "393\n",
      "394\n",
      "395\n",
      "396\n",
      "397\n",
      "398\n",
      "399\n",
      "400\n",
      "401\n",
      "402\n",
      "403\n",
      "404\n",
      "405\n",
      "406\n",
      "407\n",
      "408\n",
      "409\n",
      "410\n",
      "411\n",
      "412\n",
      "413\n",
      "414\n",
      "415\n",
      "416\n",
      "417\n",
      "418\n",
      "419\n",
      "420\n",
      "421\n",
      "422\n",
      "423\n",
      "424\n",
      "425\n",
      "426\n",
      "427\n",
      "428\n",
      "429\n",
      "430\n",
      "431\n",
      "432\n",
      "433\n",
      "434\n",
      "435\n",
      "436\n",
      "437\n",
      "438\n",
      "439\n",
      "440\n",
      "441\n",
      "442\n",
      "443\n",
      "444\n",
      "445\n",
      "446\n",
      "447\n",
      "448\n",
      "449\n",
      "450\n",
      "451\n",
      "452\n",
      "453\n",
      "454\n",
      "455\n",
      "456\n",
      "457\n",
      "458\n",
      "459\n",
      "460\n",
      "461\n",
      "462\n",
      "463\n",
      "464\n",
      "465\n",
      "466\n",
      "467\n",
      "468\n",
      "469\n",
      "470\n",
      "471\n"
     ]
    },
    {
     "ename": "KeyboardInterrupt",
     "evalue": "",
     "output_type": "error",
     "traceback": [
      "\u001b[0;31m---------------------------------------------------------------------------\u001b[0m",
      "\u001b[0;31mKeyboardInterrupt\u001b[0m                         Traceback (most recent call last)",
      "\u001b[0;32m/var/folders/ng/nzc5m6m105d49gp2r87w7mjm0000gn/T/ipykernel_7831/3607504444.py\u001b[0m in \u001b[0;36m<module>\u001b[0;34m\u001b[0m\n\u001b[1;32m     20\u001b[0m     \u001b[0mtrack_idx\u001b[0m\u001b[0;34m[\u001b[0m\u001b[0;36m0\u001b[0m\u001b[0;34m]\u001b[0m\u001b[0;34m=\u001b[0m\u001b[0;36m0\u001b[0m\u001b[0;34m\u001b[0m\u001b[0;34m\u001b[0m\u001b[0m\n\u001b[1;32m     21\u001b[0m     \u001b[0midx\u001b[0m\u001b[0;34m=\u001b[0m\u001b[0;36m0\u001b[0m\u001b[0;34m\u001b[0m\u001b[0;34m\u001b[0m\u001b[0m\n\u001b[0;32m---> 22\u001b[0;31m     \u001b[0mtrack_id\u001b[0m\u001b[0;34m=\u001b[0m\u001b[0mlabel_track\u001b[0m\u001b[0;34m(\u001b[0m\u001b[0mdeps\u001b[0m\u001b[0;34m)\u001b[0m\u001b[0;34m\u001b[0m\u001b[0;34m\u001b[0m\u001b[0m\n\u001b[0m\u001b[1;32m     23\u001b[0m \u001b[0;34m\u001b[0m\u001b[0m\n\u001b[1;32m     24\u001b[0m     \u001b[0;32mtry\u001b[0m\u001b[0;34m:\u001b[0m\u001b[0;34m\u001b[0m\u001b[0;34m\u001b[0m\u001b[0m\n",
      "\u001b[0;32m/var/folders/ng/nzc5m6m105d49gp2r87w7mjm0000gn/T/ipykernel_7831/3173308379.py\u001b[0m in \u001b[0;36mlabel_track\u001b[0;34m(deps)\u001b[0m\n\u001b[1;32m    104\u001b[0m     \u001b[0midx\u001b[0m\u001b[0;34m=\u001b[0m\u001b[0;36m0\u001b[0m\u001b[0;34m\u001b[0m\u001b[0;34m\u001b[0m\u001b[0m\n\u001b[1;32m    105\u001b[0m     \u001b[0;32mwhile\u001b[0m\u001b[0;34m(\u001b[0m\u001b[0mnp\u001b[0m\u001b[0;34m.\u001b[0m\u001b[0misnan\u001b[0m\u001b[0;34m(\u001b[0m\u001b[0mnp\u001b[0m\u001b[0;34m.\u001b[0m\u001b[0msum\u001b[0m\u001b[0;34m(\u001b[0m\u001b[0mtrack_idx\u001b[0m\u001b[0;34m)\u001b[0m\u001b[0;34m)\u001b[0m\u001b[0;34m)\u001b[0m\u001b[0;34m:\u001b[0m\u001b[0;34m\u001b[0m\u001b[0;34m\u001b[0m\u001b[0m\n\u001b[0;32m--> 106\u001b[0;31m         \u001b[0mtrack_idx\u001b[0m\u001b[0;34m=\u001b[0m\u001b[0mlabel_nearby\u001b[0m\u001b[0;34m(\u001b[0m\u001b[0mdeps\u001b[0m\u001b[0;34m,\u001b[0m \u001b[0midx\u001b[0m\u001b[0;34m,\u001b[0m \u001b[0mtrack_idx\u001b[0m\u001b[0;34m)\u001b[0m\u001b[0;34m\u001b[0m\u001b[0;34m\u001b[0m\u001b[0m\n\u001b[0m\u001b[1;32m    107\u001b[0m \u001b[0;34m\u001b[0m\u001b[0m\n\u001b[1;32m    108\u001b[0m         \u001b[0midx\u001b[0m \u001b[0;34m+=\u001b[0m\u001b[0;36m1\u001b[0m\u001b[0;34m\u001b[0m\u001b[0;34m\u001b[0m\u001b[0m\n",
      "\u001b[0;32m/var/folders/ng/nzc5m6m105d49gp2r87w7mjm0000gn/T/ipykernel_7831/3173308379.py\u001b[0m in \u001b[0;36mlabel_nearby\u001b[0;34m(deps, idx, track_idx)\u001b[0m\n\u001b[1;32m     62\u001b[0m             \u001b[0mz_check\u001b[0m\u001b[0;34m=\u001b[0m\u001b[0mpixel\u001b[0m\u001b[0;34m[\u001b[0m\u001b[0;36m2\u001b[0m\u001b[0;34m]\u001b[0m\u001b[0;34m\u001b[0m\u001b[0;34m\u001b[0m\u001b[0m\n\u001b[1;32m     63\u001b[0m \u001b[0;34m\u001b[0m\u001b[0m\n\u001b[0;32m---> 64\u001b[0;31m             \u001b[0;32mif\u001b[0m \u001b[0;34m(\u001b[0m\u001b[0;32mnot\u001b[0m \u001b[0mnp\u001b[0m\u001b[0;34m.\u001b[0m\u001b[0misnan\u001b[0m\u001b[0;34m(\u001b[0m\u001b[0mtrack_idx\u001b[0m\u001b[0;34m[\u001b[0m\u001b[0mi\u001b[0m\u001b[0;34m]\u001b[0m\u001b[0;34m)\u001b[0m\u001b[0;34m)\u001b[0m\u001b[0;34m:\u001b[0m\u001b[0;34m\u001b[0m\u001b[0;34m\u001b[0m\u001b[0m\n\u001b[0m\u001b[1;32m     65\u001b[0m                 \u001b[0;32mcontinue\u001b[0m\u001b[0;34m\u001b[0m\u001b[0;34m\u001b[0m\u001b[0m\n\u001b[1;32m     66\u001b[0m             \u001b[0;31m#print(start_pix, pixel, diff[i-1])\u001b[0m\u001b[0;34m\u001b[0m\u001b[0;34m\u001b[0m\u001b[0m\n",
      "\u001b[0;31mKeyboardInterrupt\u001b[0m: "
     ]
    }
   ],
   "source": [
    "var=[]\n",
    "z=[]\n",
    "num_deps=[]\n",
    "z_avg=[]\n",
    "for event in range(0,1000):\n",
    "    print(event)\n",
    "    event_num = event\n",
    "    x_pix = tracks_t[\"x_pix\"].array()[event_num]\n",
    "    y_pix = tracks_t[\"y_pix\"].array()[event_num]\n",
    "    c_dep = tracks_t[\"depC_pix\"].array()[event_num]\n",
    "    z_toa = tracks_t[\"z_toa\"].array()[event_num]\n",
    "    mean_z = tracks_t[\"mean_z\"].array()[event_num]\n",
    "    z_toa = z_toa - min(z_toa)+1\n",
    "    num_deps.append(len(x_pix))\n",
    "    z_avg.append(mean_z)\n",
    "    deps=np.dstack((np.array(x_pix),np.array(y_pix),np.array(z_toa)))[0]\n",
    "    \n",
    "    track_idx=np.empty(len(deps))\n",
    "    track_idx[:]=np.nan\n",
    "    track_idx[0]=0\n",
    "    idx=0\n",
    "    track_id=label_track(deps)\n",
    "    \n",
    "    try:\n",
    "        avg_track, variance=average_track(track_id, deps, c_dep)\n",
    "        var.append(np.sum(variance))\n",
    "        z.append(mean_z)\n",
    "        #num_deps.append(len(variances))\n",
    "        #z_avg.append(mean_z)\n",
    "    except:\n",
    "        continue\n",
    "    "
   ]
  },
  {
   "cell_type": "code",
   "execution_count": 181,
   "id": "802eda3e",
   "metadata": {
    "scrolled": true
   },
   "outputs": [
    {
     "data": {
      "text/plain": [
       "Text(0.5, 0, 'z_dep')"
      ]
     },
     "execution_count": 181,
     "metadata": {},
     "output_type": "execute_result"
    },
    {
     "data": {
      "image/png": "[encoded data removed]",
      "text/plain": [
       "<Figure size 720x360 with 1 Axes>"
      ]
     },
     "metadata": {
      "needs_background": "light"
     },
     "output_type": "display_data"
    }
   ],
   "source": [
    "plt.hist2d(z_dep, xyvar_pix, (100,100), cmin=0.1)\n",
    "plt.ylabel(\"var(x_pix)+var(y_pix)\")\n",
    "plt.xlabel(\"z_dep\")"
   ]
  },
  {
   "cell_type": "code",
   "execution_count": 534,
   "id": "229a940f",
   "metadata": {
    "scrolled": true
   },
   "outputs": [
    {
     "data": {
      "text/plain": [
       "Text(0.5, 0, 'z_dep')"
      ]
     },
     "execution_count": 534,
     "metadata": {},
     "output_type": "execute_result"
    },
    {
     "name": "stderr",
     "output_type": "stream",
     "text": [
      "<__array_function__ internals>:180: UserWarning: Warning: converting a masked element to nan.\n",
      "/opt/homebrew/lib/python3.9/site-packages/matplotlib/colors.py:1159: UserWarning: Warning: converting a masked element to nan.\n",
      "  data = np.asarray(value)\n"
     ]
    },
    {
     "data": {
      "image/png": "[encoded data removed]",
      "text/plain": [
       "<Figure size 1440x720 with 1 Axes>"
      ]
     },
     "metadata": {
      "needs_background": "light"
     },
     "output_type": "display_data"
    }
   ],
   "source": [
    "plt.hist2d(z_dep, xyvar, (100), cmin=0.1)\n",
    "plt.ylabel(\"var(x) + var(y)\")\n",
    "plt.xlabel(\"z_dep\")"
   ]
  },
  {
   "cell_type": "code",
   "execution_count": 50,
   "id": "91fd8b3a",
   "metadata": {},
   "outputs": [
    {
     "data": {
      "text/plain": [
       "(array([[0., 0., 0., ..., 0., 0., 0.],\n",
       "        [0., 0., 0., ..., 0., 0., 0.],\n",
       "        [1., 0., 0., ..., 0., 0., 0.],\n",
       "        ...,\n",
       "        [0., 0., 0., ..., 0., 0., 0.],\n",
       "        [0., 0., 0., ..., 0., 0., 0.],\n",
       "        [0., 0., 0., ..., 0., 0., 1.]]),\n",
       " array([ 739.75366211,  832.0475769 ,  924.3414917 , 1016.63540649,\n",
       "        1108.92932129, 1201.22323608, 1293.51715088, 1385.81106567,\n",
       "        1478.10498047, 1570.39889526, 1662.69281006, 1754.98672485,\n",
       "        1847.28063965, 1939.57455444, 2031.86846924, 2124.16238403,\n",
       "        2216.45629883, 2308.75021362, 2401.04412842, 2493.33804321,\n",
       "        2585.63195801, 2677.9258728 , 2770.2197876 , 2862.51370239,\n",
       "        2954.80761719, 3047.10153198, 3139.39544678, 3231.68936157,\n",
       "        3323.98327637, 3416.27719116, 3508.57110596, 3600.86502075,\n",
       "        3693.15893555, 3785.45285034, 3877.74676514, 3970.04067993,\n",
       "        4062.33459473, 4154.62850952, 4246.92242432, 4339.21633911,\n",
       "        4431.51025391]),\n",
       " array([ 530.   ,  543.375,  556.75 ,  570.125,  583.5  ,  596.875,\n",
       "         610.25 ,  623.625,  637.   ,  650.375,  663.75 ,  677.125,\n",
       "         690.5  ,  703.875,  717.25 ,  730.625,  744.   ,  757.375,\n",
       "         770.75 ,  784.125,  797.5  ,  810.875,  824.25 ,  837.625,\n",
       "         851.   ,  864.375,  877.75 ,  891.125,  904.5  ,  917.875,\n",
       "         931.25 ,  944.625,  958.   ,  971.375,  984.75 ,  998.125,\n",
       "        1011.5  , 1024.875, 1038.25 , 1051.625, 1065.   ]),\n",
       " <matplotlib.collections.QuadMesh at 0x15794b760>)"
      ]
     },
     "execution_count": 50,
     "metadata": {},
     "output_type": "execute_result"
    },
    {
     "data": {
      "image/png": "[encoded data removed]",
      "text/plain": [
       "<Figure size 720x360 with 1 Axes>"
      ]
     },
     "metadata": {
      "needs_background": "light"
     },
     "output_type": "display_data"
    }
   ],
   "source": [
    "plt.hist2d(z_avg,num_deps, (40,40))"
   ]
  },
  {
   "cell_type": "code",
   "execution_count": 97,
   "id": "a60c8bae",
   "metadata": {
    "scrolled": false
   },
   "outputs": [
    {
     "data": {
      "text/plain": [
       "<matplotlib.collections.PathCollection at 0x505d43880>"
      ]
     },
     "execution_count": 97,
     "metadata": {},
     "output_type": "execute_result"
    },
    {
     "data": {
      "image/png": "[encoded data removed]",
      "text/plain": [
       "<Figure size 720x360 with 1 Axes>"
      ]
     },
     "metadata": {
      "needs_background": "light"
     },
     "output_type": "display_data"
    }
   ],
   "source": [
    "plt.scatter(track_dep, rand_z)"
   ]
  },
  {
   "cell_type": "code",
   "execution_count": 526,
   "id": "a0401548",
   "metadata": {},
   "outputs": [
    {
     "data": {
      "text/plain": [
       "(array([[nan,  1., nan, ..., nan, nan, nan],\n",
       "        [nan, nan, nan, ..., nan, nan, nan],\n",
       "        [nan, nan, nan, ..., nan, nan, nan],\n",
       "        ...,\n",
       "        [nan, nan, nan, ..., nan, nan, nan],\n",
       "        [nan, nan, nan, ..., nan, nan, nan],\n",
       "        [nan, nan, nan, ...,  1., nan, nan]]),\n",
       " array([ 177.41517639,  223.15818771,  268.90119904,  314.64421036,\n",
       "         360.38722168,  406.130233  ,  451.87324432,  497.61625565,\n",
       "         543.35926697,  589.10227829,  634.84528961,  680.58830093,\n",
       "         726.33131226,  772.07432358,  817.8173349 ,  863.56034622,\n",
       "         909.30335754,  955.04636887, 1000.78938019, 1046.53239151,\n",
       "        1092.27540283, 1138.01841415, 1183.76142548, 1229.5044368 ,\n",
       "        1275.24744812, 1320.99045944, 1366.73347076, 1412.47648209,\n",
       "        1458.21949341, 1503.96250473, 1549.70551605, 1595.44852737,\n",
       "        1641.1915387 , 1686.93455002, 1732.67756134, 1778.42057266,\n",
       "        1824.16358398, 1869.90659531, 1915.64960663, 1961.39261795,\n",
       "        2007.13562927, 2052.87864059, 2098.62165192, 2144.36466324,\n",
       "        2190.10767456, 2235.85068588, 2281.5936972 , 2327.33670853,\n",
       "        2373.07971985, 2418.82273117, 2464.56574249, 2510.30875381,\n",
       "        2556.05176514, 2601.79477646, 2647.53778778, 2693.2807991 ,\n",
       "        2739.02381042, 2784.76682175, 2830.50983307, 2876.25284439,\n",
       "        2921.99585571, 2967.73886703, 3013.48187836, 3059.22488968,\n",
       "        3104.967901  , 3150.71091232, 3196.45392365, 3242.19693497,\n",
       "        3287.93994629, 3333.68295761, 3379.42596893, 3425.16898026,\n",
       "        3470.91199158, 3516.6550029 , 3562.39801422, 3608.14102554,\n",
       "        3653.88403687, 3699.62704819, 3745.37005951, 3791.11307083,\n",
       "        3836.85608215, 3882.59909348, 3928.3421048 , 3974.08511612,\n",
       "        4019.82812744, 4065.57113876, 4111.31415009, 4157.05716141,\n",
       "        4202.80017273, 4248.54318405, 4294.28619537, 4340.0292067 ,\n",
       "        4385.77221802, 4431.51522934, 4477.25824066, 4523.00125198,\n",
       "        4568.74426331, 4614.48727463, 4660.23028595, 4705.97329727,\n",
       "        4751.71630859]),\n",
       " array([  64.  ,   89.34,  114.68,  140.02,  165.36,  190.7 ,  216.04,\n",
       "         241.38,  266.72,  292.06,  317.4 ,  342.74,  368.08,  393.42,\n",
       "         418.76,  444.1 ,  469.44,  494.78,  520.12,  545.46,  570.8 ,\n",
       "         596.14,  621.48,  646.82,  672.16,  697.5 ,  722.84,  748.18,\n",
       "         773.52,  798.86,  824.2 ,  849.54,  874.88,  900.22,  925.56,\n",
       "         950.9 ,  976.24, 1001.58, 1026.92, 1052.26, 1077.6 , 1102.94,\n",
       "        1128.28, 1153.62, 1178.96, 1204.3 , 1229.64, 1254.98, 1280.32,\n",
       "        1305.66, 1331.  ]),\n",
       " <matplotlib.collections.QuadMesh at 0x176404cd0>)"
      ]
     },
     "execution_count": 526,
     "metadata": {},
     "output_type": "execute_result"
    },
    {
     "data": {
      "image/png": "[encoded data removed]",
      "text/plain": [
       "<Figure size 1440x720 with 1 Axes>"
      ]
     },
     "metadata": {
      "needs_background": "light"
     },
     "output_type": "display_data"
    }
   ],
   "source": [
    "mean_z = tracks_t[\"mean_z\"].array()\n",
    "nDep = tracks_t[\"nDep_pix\"].array()\n",
    "plt.hist2d(mean_z,nDep, (100,50), cmin=0.1)"
   ]
  },
  {
   "cell_type": "code",
   "execution_count": 96,
   "id": "02f4a5b0",
   "metadata": {
    "collapsed": true
   },
   "outputs": [
    {
     "name": "stdout",
     "output_type": "stream",
     "text": [
      "[966, 1659, 1702, 1753, 1767, 1885, 1886, 1886, 1888, 1888, 1888, 1888, 1894, 1905, 1907, 1912, 1905, 1905, 1905, 1905, 1905, 1913, 1942, 1953, 1953, 1963, 1963, 1963, 1968, 1968, 1968, 1969, 1969, 1977, 1978, 1978, 1978, 1978, 1990, 1990, 1990, 1994, 1994, 2009, 2009, 2009, 2010, 2021, 2021, 2021]\n"
     ]
    }
   ],
   "source": [
    "print(track_dep)"
   ]
  },
  {
   "cell_type": "code",
   "execution_count": 757,
   "id": "922334f2",
   "metadata": {
    "scrolled": true
   },
   "outputs": [
    {
     "data": {
      "text/plain": [
       "<matplotlib.collections.PathCollection at 0x157a7dd90>"
      ]
     },
     "execution_count": 757,
     "metadata": {},
     "output_type": "execute_result"
    },
    {
     "data": {
      "image/png": "[encoded data removed]",
      "text/plain": [
       "<Figure size 1440x720 with 1 Axes>"
      ]
     },
     "metadata": {
      "needs_background": "light"
     },
     "output_type": "display_data"
    }
   ],
   "source": [
    "plt.scatter(coords[:,0], coords[:,1])"
   ]
  },
  {
   "cell_type": "code",
   "execution_count": 947,
   "id": "9fea8118",
   "metadata": {
    "collapsed": true
   },
   "outputs": [
    {
     "name": "stdout",
     "output_type": "stream",
     "text": [
      "[       nan        nan        nan        nan        nan        nan\n",
      "        nan        nan        nan        nan        nan        nan\n",
      "        nan        nan        nan        nan        nan        nan\n",
      "        nan        nan        nan        nan        nan        nan\n",
      "        nan        nan        nan        nan        nan        nan\n",
      "        nan        nan        nan        nan        nan        nan\n",
      "        nan        nan        nan        nan        nan        nan\n",
      "        nan        nan        nan        nan        nan        nan\n",
      "        nan        nan        nan        nan        nan        nan\n",
      "        nan        nan        nan        nan        nan        nan\n",
      "        nan        nan        nan        nan        nan        nan\n",
      "        nan        nan        nan        nan        nan        nan\n",
      "        nan        nan        nan        nan        nan        nan\n",
      "        nan        nan        nan        nan        nan        nan\n",
      "        nan        nan        nan        nan        nan        nan\n",
      "        nan        nan        nan        nan        nan        nan\n",
      "        nan        nan        nan        nan        nan        nan\n",
      "        nan        nan        nan        nan        nan        nan\n",
      "        nan        nan        nan        nan        nan        nan\n",
      "        nan        nan        nan        nan        nan        nan\n",
      "        nan        nan        nan        nan        nan        nan\n",
      "        nan 0.46019564 5.2887379  0.8686731         nan        nan\n",
      "        nan        nan        nan        nan        nan        nan\n",
      "        nan        nan        nan        nan        nan        nan\n",
      "        nan        nan        nan        nan        nan        nan\n",
      "        nan        nan        nan        nan        nan]\n"
     ]
    }
   ],
   "source": [
    "print(test[0])"
   ]
  },
  {
   "cell_type": "code",
   "execution_count": 944,
   "id": "5996b104",
   "metadata": {},
   "outputs": [
    {
     "data": {
      "text/plain": [
       "<matplotlib.image.AxesImage at 0x1798255b0>"
      ]
     },
     "execution_count": 944,
     "metadata": {},
     "output_type": "execute_result"
    },
    {
     "data": {
      "image/png": "[encoded data removed]",
      "text/plain": [
       "<Figure size 1440x720 with 1 Axes>"
      ]
     },
     "metadata": {
      "needs_background": "light"
     },
     "output_type": "display_data"
    }
   ],
   "source": [
    "plt.imshow(test,origin=\"lower\")"
   ]
  },
  {
   "cell_type": "code",
   "execution_count": 1029,
   "id": "0714f996",
   "metadata": {},
   "outputs": [
    {
     "name": "stdout",
     "output_type": "stream",
     "text": [
      "[ 44 155]\n",
      "[1, 2, 1, 2, 2, 3, 3, 4, 4, 3]\n",
      "[1, 1, 2, 2, 3, 3, 4, 4, 5, 5]\n"
     ]
    }
   ],
   "source": [
    "print(coords[1])\n",
    "print(x_pix[:10])\n",
    "print(y_pix[:10])"
   ]
  },
  {
   "cell_type": "code",
   "execution_count": 1050,
   "id": "80f71a8e",
   "metadata": {},
   "outputs": [
    {
     "name": "stdout",
     "output_type": "stream",
     "text": [
      "[[ 95. 102.  nan  nan  nan  nan  nan  nan  nan  nan]\n",
      " [ 28. 585. 151.  nan  nan  nan  nan  nan  nan  nan]\n",
      " [ nan  nan 230. 194.   2.  nan  nan  nan  nan  nan]\n",
      " [ nan  nan  nan 145. 508.  29.  nan  nan  nan  nan]\n",
      " [ nan  nan  nan  nan  97. 572.  43.  nan  nan  nan]\n",
      " [ nan  nan  nan  nan  nan  18. 483. 178.  nan  nan]\n",
      " [ nan  nan  nan  nan  nan  nan   8. 552. 255.   6.]\n",
      " [ nan  nan  nan  nan  nan  nan  nan  nan 101. 510.]\n",
      " [ nan  nan  nan  nan  nan  nan  nan  nan  nan  nan]\n",
      " [ nan  nan  nan  nan  nan  nan  nan  nan  nan  nan]]\n",
      "[[ 10.  21.  nan  nan  nan  nan  nan  nan  nan  nan]\n",
      " [ 21. 308. 310.  nan  nan  nan  nan  nan  nan  nan]\n",
      " [ nan  65. 199. 258.  nan  nan  nan  nan  nan  nan]\n",
      " [ nan  nan   0. 109. 235.  12.  nan  nan  nan  nan]\n",
      " [ nan  nan  nan  nan 190. 476. 161.  nan  nan  nan]\n",
      " [ nan  nan  nan  nan  nan 123. 355. 202.  nan  nan]\n",
      " [ nan  nan  nan  nan  nan  nan  76. 387. 477.   0.]\n",
      " [ nan  nan  nan  nan  nan  nan  nan   9. 133. 301.]\n",
      " [ nan  nan  nan  nan  nan  nan  nan  nan  nan 106.]\n",
      " [ nan  nan  nan  nan  nan  nan  nan  nan  nan  nan]]\n"
     ]
    }
   ],
   "source": [
    "print(np.rint(pix[0:10,0:10]))\n",
    "print(np.rint(test[0:10, 0:10]))"
   ]
  },
  {
   "cell_type": "code",
   "execution_count": 1038,
   "id": "51a319b9",
   "metadata": {},
   "outputs": [
    {
     "data": {
      "text/plain": [
       "125"
      ]
     },
     "execution_count": 1038,
     "metadata": {},
     "output_type": "execute_result"
    }
   ],
   "source": [
    "len(pix)"
   ]
  },
  {
   "cell_type": "code",
   "execution_count": 1056,
   "id": "f800743c",
   "metadata": {},
   "outputs": [
    {
     "data": {
      "text/plain": [
       "(array([195., 276.,  14.,   0.,   0.,   1.,   0.,   0.,   1.,   1.]),\n",
       " array([0.  , 0.25, 0.5 , 0.75, 1.  , 1.25, 1.5 , 1.75, 2.  , 2.25, 2.5 ]),\n",
       " <BarContainer object of 10 artists>)"
      ]
     },
     "execution_count": 1056,
     "metadata": {},
     "output_type": "execute_result"
    },
    {
     "data": {
      "image/png": "[encoded data removed]",
      "text/plain": [
       "<Figure size 1440x720 with 1 Axes>"
      ]
     },
     "metadata": {
      "needs_background": "light"
     },
     "output_type": "display_data"
    }
   ],
   "source": [
    "plt.hist(var,10)"
   ]
  },
  {
   "cell_type": "code",
   "execution_count": null,
   "id": "0654c8a3",
   "metadata": {},
   "outputs": [],
   "source": []
  }
 ],
 "metadata": {
  "kernelspec": {
   "display_name": "Python 3 (ipykernel)",
   "language": "python",
   "name": "python3"
  },
  "language_info": {
   "codemirror_mode": {
    "name": "ipython",
    "version": 3
   },
   "file_extension": ".py",
   "mimetype": "text/x-python",
   "name": "python",
   "nbconvert_exporter": "python",
   "pygments_lexer": "ipython3",
   "version": "3.9.13"
  }
 },
 "nbformat": 4,
 "nbformat_minor": 5
}
