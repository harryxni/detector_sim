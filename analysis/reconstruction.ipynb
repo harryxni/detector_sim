{
 "cells": [
  {
   "cell_type": "code",
   "execution_count": 244,
   "id": "cb5ef624",
   "metadata": {},
   "outputs": [],
   "source": [
    "import uproot\n",
    "import numpy as np\n",
    "import matplotlib.pyplot as plt\n",
    "from scipy import stats\n",
    "plt.rcParams['figure.figsize'] = [10, 5]\n"
   ]
  },
  {
   "cell_type": "code",
   "execution_count": 245,
   "id": "cb3aecf2",
   "metadata": {},
   "outputs": [],
   "source": [
    "tracks_t = uproot.open(\"../test.root:diffusion output\")\n",
    "#tracks_t.values()\n",
    "\n",
    "def gauss_2d(coord, means, sig,norm=1):\n",
    "    x=coord[0]\n",
    "    y=coord[1]\n",
    "    return norm*(stats.norm.pdf(x, means[0], sig) * stats.norm.pdf(y,means[1], sig))\n",
    "\n",
    "def calc_prob(track_dep, z0):\n",
    "    diff_factor = 0.00323\n",
    "    z_abs = z0 + 0.72 * 5 * track_dep[2] #0.72 microns/nanosecond\n",
    "    sigma = diff_factor * np.sqrt(z_abs)\n",
    "    \n",
    "    origin = (track_dep[0], track_dep[1])\n",
    "    charge = track_dep[3]\n",
    "    \n",
    "    x = np.arange(origin[0]-10, origin[0]+10, 0.1)#pixels\n",
    "    y = np.arange(origin[1]-10, origin[1]+10, 0.1) #pixels #1 micron bins\n",
    "    xx, yy = np.meshgrid(x,y)\n",
    "    \n",
    "    vals = gauss_2d((xx,yy), origin, sigma, charge)\n",
    "    \n",
    "    return(vals)\n",
    "\n",
    "def diffuse(track_dep, z0):\n",
    "    x=[]\n",
    "    y=[]\n",
    "    z=[]\n",
    "    diff_factor = 0.00323\n",
    "    z_abs = z0 + 0.72 * 5 * track_dep[2] #0.72 microns/nanosecond\n",
    "    sigma = diff_factor * np.sqrt(z_abs)\n",
    "    #print(track_dep[3])\n",
    "    for c in range(int(track_dep[3])):\n",
    "        x_new = np.random.normal(track_dep[0],sigma)\n",
    "        y_new = np.random.normal(track_dep[1],sigma)\n",
    "        x.append(x_new)\n",
    "        y.append(y_new)\n",
    "        z.append(z_abs)\n",
    "    return np.array([x,y,z])\n",
    "\n",
    "def label_nearby(deps,idx,track_idx):\n",
    "    #deps is depositions\n",
    "    #given a track_id, identify all pixels with track_id and then label all pixels touching track_id\n",
    "    \n",
    "    found=False\n",
    "    locs=[]\n",
    "    for start_pix in deps[np.argwhere(track_idx==idx)]:\n",
    "        #print(start_pix)\n",
    "        i_start=start_pix[0][0]\n",
    "        j_start=start_pix[0][1]\n",
    "        z_start=start_pix[0][2]\n",
    "        \n",
    "        for i, pixel in enumerate(deps):\n",
    "            \n",
    "            i_check=pixel[0]\n",
    "            j_check=pixel[1]\n",
    "            z_check=pixel[2]\n",
    "            \n",
    "            if (not np.isnan(track_idx[i])):\n",
    "                continue\n",
    "            #print(start_pix, pixel, diff[i-1])\n",
    "            #print(np.abs(z_start-z_check))\n",
    "            if(np.abs(z_start-z_check)<=2):\n",
    "                dist=np.sqrt((i_check-i_start)**2 + (j_check-j_start)**2)\n",
    "                if(dist<2):\n",
    "                    found=True\n",
    "                    track_idx[i]=idx+1\n",
    "                    locs.append(i)\n",
    "    branch_check = deps[np.argwhere(track_idx==idx+1)]\n",
    "    #print(locs)\n",
    "    x = branch_check[:,0][:,0]\n",
    "    y = branch_check[:,0][:,1]\n",
    "    new_branch=[np.argwhere(track_idx==idx+1)][0]\n",
    "    if (np.var(x) + np.var(y) >5):\n",
    "        print('branch found', max(np.diff(x)), max(np.diff(y)))\n",
    "        max_loc = (np.argwhere(np.diff(y) == max(np.diff(y))))\n",
    "        #find largest diff in x and y\n",
    "        y0 = min(y)\n",
    "        y1 = max(y)\n",
    "        x0 = min(x)\n",
    "        x1 = max(x)\n",
    "        print(y0,y1)\n",
    "        for i, val in enumerate(branch_check[:,0]):\n",
    "            if np.abs(val[0]-x0) >=3 or np.abs(val[1]-y0) >=3:\n",
    "                track_idx[new_branch[i]] = idx+1000\n",
    "    \n",
    "            \n",
    "        \n",
    "    if (not found):\n",
    "        #move on with next nan value\n",
    "        loc=np.min(np.argwhere(np.isnan(track_idx)))\n",
    "        track_idx[loc] = idx+1\n",
    "        \n",
    "        \n",
    "    return track_idx\n",
    "def label_track(deps):\n",
    "    #label all depositions with track ids\n",
    "    track_idx=np.empty(len(deps))\n",
    "    track_idx[:]=np.nan\n",
    "    track_idx[0]=0\n",
    "    idx=0\n",
    "    while(np.isnan(np.sum(track_idx))):\n",
    "        track_idx=label_nearby(deps, idx, track_idx)\n",
    "       \n",
    "        #branch check\n",
    "        \n",
    "        idx +=1\n",
    "    return track_idx\n",
    "\n",
    "\n",
    "def average_track(track_ids, deps, charge):\n",
    "    avg_pixels=[]\n",
    "    var=[]\n",
    "    for pix_id in range(int(max(track_ids)+1)):\n",
    "\n",
    "        locs = (np.argwhere(track_ids==pix_id))\n",
    "        if(len(locs)==0):\n",
    "            continue\n",
    "        pixels = deps[locs][:,0]\n",
    "        #print(np.var(pixels[:,0]), np.var(pixels[:,1]))\n",
    "        x_avg=np.average(pixels[:,0], weights=charge[locs][:,0])\n",
    "        y_avg=np.average(pixels[:,1], weights=charge[locs][:,0])\n",
    "        z_avg=np.average(pixels[:,2], weights=charge[locs][:,0])\n",
    "        charge_sum = np.sum(charge[locs])\n",
    "        \n",
    "        avg_pixels.append([x_avg,y_avg,z_avg, charge_sum])\n",
    "    \n",
    "    avg_pixels=np.array(avg_pixels)\n",
    "    \n",
    "    return avg_pixels"
   ]
  },
  {
   "cell_type": "code",
   "execution_count": 252,
   "id": "8248f96a",
   "metadata": {},
   "outputs": [
    {
     "name": "stdout",
     "output_type": "stream",
     "text": [
      "276657\n"
     ]
    }
   ],
   "source": [
    "event_num = 5 #good ones: 0,2,6,13,14 sorta:5,10,11 bad: 15(?),18(need to investigate this one),11,4,1,8,9\n",
    "x_pix = tracks_t[\"x_pix\"].array()[event_num]\n",
    "y_pix = tracks_t[\"y_pix\"].array()[event_num]\n",
    "c_dep = tracks_t[\"depC_pix\"].array()[event_num]\n",
    "z_toa = tracks_t[\"z_toa\"].array()[event_num]\n",
    "mean_z = tracks_t[\"mean_z\"].array()[event_num]\n",
    "z_toa = z_toa - min(z_toa)+1\n",
    "print(np.sum(c_dep))"
   ]
  },
  {
   "cell_type": "markdown",
   "id": "7e5e4775",
   "metadata": {},
   "source": [
    "Method: set start pixel idx to 0, set all touching pixels idx to 1 and repeat\n",
    "then average numbers\n"
   ]
  },
  {
   "cell_type": "code",
   "execution_count": 253,
   "id": "474bba98",
   "metadata": {},
   "outputs": [
    {
     "name": "stdout",
     "output_type": "stream",
     "text": [
      "165\n"
     ]
    },
    {
     "data": {
      "image/png": "[encoded data removed]",
      "text/plain": [
       "<Figure size 720x360 with 2 Axes>"
      ]
     },
     "metadata": {
      "needs_background": "light"
     },
     "output_type": "display_data"
    }
   ],
   "source": [
    "pix, xedges, yedges, image = plt.hist2d(x_pix, y_pix, (max(x_pix), max(y_pix)), cmin=0.01, weights=c_dep)\n",
    "#plt.plot(locs[0],locs[1], 'go')\n",
    "plt.plot(x_pix[0], y_pix[0],'go')\n",
    "plt.colorbar()\n",
    "print(len(pix))"
   ]
  },
  {
   "cell_type": "code",
   "execution_count": 254,
   "id": "4b30e570",
   "metadata": {},
   "outputs": [],
   "source": [
    "pix_array=pix"
   ]
  },
  {
   "cell_type": "code",
   "execution_count": 255,
   "id": "56dbdc4d",
   "metadata": {},
   "outputs": [
    {
     "name": "stdout",
     "output_type": "stream",
     "text": [
      "branch found 3 2\n",
      "112 115\n"
     ]
    }
   ],
   "source": [
    "deps=np.dstack((np.array(x_pix),np.array(y_pix),np.array(z_toa)))[0]\n",
    "track_idx=np.empty(len(deps))\n",
    "track_idx[:]=np.nan\n",
    "track_idx[0]=0\n",
    "idx=0\n",
    "track_id=label_track(deps)"
   ]
  },
  {
   "cell_type": "code",
   "execution_count": 256,
   "id": "abf86638",
   "metadata": {},
   "outputs": [],
   "source": [
    "avg_track=average_track(track_id, deps, c_dep)"
   ]
  },
  {
   "cell_type": "code",
   "execution_count": 257,
   "id": "0151ce85",
   "metadata": {},
   "outputs": [
    {
     "data": {
      "text/plain": [
       "<matplotlib.colorbar.Colorbar at 0x147f6d970>"
      ]
     },
     "execution_count": 257,
     "metadata": {},
     "output_type": "execute_result"
    },
    {
     "data": {
      "image/png": "[encoded data removed]",
      "text/plain": [
       "<Figure size 720x360 with 2 Axes>"
      ]
     },
     "metadata": {
      "needs_background": "light"
     },
     "output_type": "display_data"
    }
   ],
   "source": [
    "x_new=[]\n",
    "y_new=[]\n",
    "#z=[]\n",
    "for val in avg_track:\n",
    "    z0=10000#um\n",
    "    x,y,z=diffuse(val, z0)\n",
    "    x_new.extend(x)\n",
    "    y_new.extend(y)\n",
    "    \n",
    "    #z.extend(z)\n",
    "    \n",
    "pix, xedges, yedges, image = plt.hist2d(x_new, y_new, (max(x_pix), max(y_pix)),cmin=0.1)\n",
    "plt.colorbar()\n",
    "\n",
    "    "
   ]
  },
  {
   "cell_type": "code",
   "execution_count": 258,
   "id": "4a204494",
   "metadata": {},
   "outputs": [
    {
     "data": {
      "text/plain": [
       "array([0.000e+00, 1.000e+00, 1.000e+00, 2.000e+00, 2.000e+00, 2.000e+00,\n",
       "       3.000e+00, 3.000e+00, 3.000e+00, 4.000e+00, 5.000e+00, 4.000e+00,\n",
       "       5.000e+00, 6.000e+00, 6.000e+00, 7.000e+00, 7.000e+00, 8.000e+00,\n",
       "       8.000e+00, 9.000e+00, 1.000e+01, 9.000e+00, 1.000e+01, 1.100e+01,\n",
       "       1.100e+01, 1.200e+01, 1.200e+01, 1.300e+01, 1.300e+01, 1.400e+01,\n",
       "       1.400e+01, 1.400e+01, 1.500e+01, 1.500e+01, 1.600e+01, 1.600e+01,\n",
       "       1.700e+01, 1.700e+01, 1.800e+01, 1.800e+01, 1.900e+01, 1.900e+01,\n",
       "       2.000e+01, 2.000e+01, 2.100e+01, 2.100e+01, 2.100e+01, 2.200e+01,\n",
       "       2.200e+01, 2.300e+01, 2.300e+01, 2.300e+01, 2.400e+01, 2.400e+01,\n",
       "       2.400e+01, 2.500e+01, 2.500e+01, 2.500e+01, 2.600e+01, 2.600e+01,\n",
       "       2.700e+01, 2.700e+01, 2.800e+01, 2.800e+01, 2.900e+01, 2.900e+01,\n",
       "       3.000e+01, 3.000e+01, 3.100e+01, 3.100e+01, 3.200e+01, 3.200e+01,\n",
       "       3.300e+01, 3.300e+01, 3.200e+01, 3.400e+01, 3.400e+01, 3.500e+01,\n",
       "       3.500e+01, 3.600e+01, 3.600e+01, 3.700e+01, 3.700e+01, 3.800e+01,\n",
       "       3.800e+01, 3.800e+01, 3.900e+01, 3.900e+01, 4.000e+01, 4.000e+01,\n",
       "       3.900e+01, 4.100e+01, 4.100e+01, 4.200e+01, 4.200e+01, 4.200e+01,\n",
       "       4.300e+01, 4.400e+01, 4.400e+01, 4.500e+01, 4.600e+01, 4.700e+01,\n",
       "       4.800e+01, 4.800e+01, 4.900e+01, 4.900e+01, 5.000e+01, 5.000e+01,\n",
       "       5.100e+01, 5.200e+01, 5.300e+01, 5.200e+01, 5.300e+01, 5.400e+01,\n",
       "       5.400e+01, 5.500e+01, 5.500e+01, 5.600e+01, 5.600e+01, 5.700e+01,\n",
       "       5.700e+01, 5.800e+01, 5.900e+01, 6.000e+01, 6.100e+01, 6.100e+01,\n",
       "       6.200e+01, 6.200e+01, 6.300e+01, 6.300e+01, 6.400e+01, 6.400e+01,\n",
       "       6.500e+01, 6.500e+01, 6.600e+01, 6.700e+01, 6.800e+01, 6.900e+01,\n",
       "       7.000e+01, 7.000e+01, 7.100e+01, 7.100e+01, 7.200e+01, 7.200e+01,\n",
       "       7.300e+01, 7.300e+01, 7.400e+01, 7.400e+01, 7.500e+01, 7.600e+01,\n",
       "       7.600e+01, 7.700e+01, 7.700e+01, 7.800e+01, 7.900e+01, 7.900e+01,\n",
       "       8.000e+01, 8.000e+01, 8.000e+01, 8.100e+01, 8.100e+01, 8.200e+01,\n",
       "       8.200e+01, 8.300e+01, 8.300e+01, 8.400e+01, 8.400e+01, 8.500e+01,\n",
       "       8.500e+01, 8.600e+01, 8.600e+01, 8.700e+01, 8.800e+01, 8.800e+01,\n",
       "       8.900e+01, 8.900e+01, 9.000e+01, 9.100e+01, 9.100e+01, 9.000e+01,\n",
       "       9.200e+01, 9.200e+01, 9.300e+01, 9.300e+01, 9.400e+01, 9.400e+01,\n",
       "       9.500e+01, 9.500e+01, 9.500e+01, 9.600e+01, 9.600e+01, 9.700e+01,\n",
       "       9.800e+01, 9.900e+01, 1.000e+02, 9.900e+01, 1.000e+02, 1.010e+02,\n",
       "       1.010e+02, 1.020e+02, 1.020e+02, 1.030e+02, 1.040e+02, 1.050e+02,\n",
       "       1.060e+02, 1.060e+02, 1.070e+02, 1.070e+02, 1.080e+02, 1.080e+02,\n",
       "       1.080e+02, 1.090e+02, 1.090e+02, 1.100e+02, 1.100e+02, 1.110e+02,\n",
       "       1.110e+02, 1.120e+02, 1.120e+02, 1.130e+02, 1.130e+02, 1.140e+02,\n",
       "       1.140e+02, 1.150e+02, 1.150e+02, 1.160e+02, 1.160e+02, 1.170e+02,\n",
       "       1.170e+02, 1.170e+02, 1.180e+02, 1.180e+02, 1.180e+02, 1.190e+02,\n",
       "       1.190e+02, 1.190e+02, 1.200e+02, 1.200e+02, 1.200e+02, 1.210e+02,\n",
       "       1.220e+02, 1.210e+02, 1.220e+02, 1.230e+02, 1.230e+02, 1.240e+02,\n",
       "       1.240e+02, 1.240e+02, 1.250e+02, 1.250e+02, 1.260e+02, 1.250e+02,\n",
       "       1.260e+02, 1.260e+02, 1.270e+02, 1.270e+02, 1.270e+02, 1.280e+02,\n",
       "       1.280e+02, 1.280e+02, 1.290e+02, 1.290e+02, 1.290e+02, 1.300e+02,\n",
       "       1.300e+02, 1.310e+02, 1.310e+02, 1.310e+02, 1.320e+02, 1.320e+02,\n",
       "       1.330e+02, 1.330e+02, 1.340e+02, 1.340e+02, 1.350e+02, 1.350e+02,\n",
       "       1.360e+02, 1.360e+02, 1.370e+02, 1.380e+02, 1.390e+02, 1.390e+02,\n",
       "       1.390e+02, 1.400e+02, 1.400e+02, 1.410e+02, 1.410e+02, 1.420e+02,\n",
       "       1.420e+02, 1.430e+02, 1.430e+02, 1.440e+02, 1.440e+02, 1.450e+02,\n",
       "       1.450e+02, 1.460e+02, 1.460e+02, 1.470e+02, 1.470e+02, 1.480e+02,\n",
       "       1.480e+02, 1.490e+02, 1.490e+02, 1.500e+02, 1.500e+02, 1.510e+02,\n",
       "       1.500e+02, 1.510e+02, 1.520e+02, 1.520e+02, 1.530e+02, 1.530e+02,\n",
       "       1.530e+02, 1.540e+02, 1.540e+02, 1.540e+02, 1.550e+02, 1.550e+02,\n",
       "       1.550e+02, 1.560e+02, 1.560e+02, 1.560e+02, 1.570e+02, 1.570e+02,\n",
       "       1.580e+02, 1.580e+02, 1.590e+02, 1.590e+02, 1.600e+02, 1.600e+02,\n",
       "       1.610e+02, 1.610e+02, 1.620e+02, 1.620e+02, 1.630e+02, 1.640e+02,\n",
       "       1.640e+02, 1.650e+02, 1.660e+02, 1.660e+02, 1.670e+02, 1.670e+02,\n",
       "       1.680e+02, 1.690e+02, 1.690e+02, 1.690e+02, 1.690e+02, 1.700e+02,\n",
       "       1.700e+02, 1.710e+02, 1.710e+02, 1.720e+02, 1.720e+02, 1.720e+02,\n",
       "       1.730e+02, 1.730e+02, 1.740e+02, 1.730e+02, 1.740e+02, 1.750e+02,\n",
       "       1.750e+02, 1.760e+02, 1.760e+02, 1.770e+02, 1.770e+02, 1.760e+02,\n",
       "       1.780e+02, 1.780e+02, 1.790e+02, 1.790e+02, 1.800e+02, 1.800e+02,\n",
       "       1.810e+02, 1.810e+02, 1.800e+02, 1.820e+02, 1.820e+02, 1.820e+02,\n",
       "       1.830e+02, 1.830e+02, 1.840e+02, 1.840e+02, 1.850e+02, 1.850e+02,\n",
       "       1.850e+02, 1.860e+02, 1.860e+02, 1.870e+02, 1.870e+02, 1.860e+02,\n",
       "       1.880e+02, 1.880e+02, 1.870e+02, 1.890e+02, 1.890e+02, 1.900e+02,\n",
       "       1.900e+02, 1.910e+02, 1.910e+02, 1.900e+02, 1.920e+02, 1.920e+02,\n",
       "       1.930e+02, 1.930e+02, 1.940e+02, 1.940e+02, 1.950e+02, 1.950e+02,\n",
       "       1.960e+02, 1.960e+02, 1.970e+02, 1.970e+02, 1.980e+02, 1.980e+02,\n",
       "       1.990e+02, 1.990e+02, 2.000e+02, 2.000e+02, 2.010e+02, 2.020e+02,\n",
       "       2.010e+02, 2.030e+02, 2.030e+02, 2.040e+02, 2.040e+02, 2.050e+02,\n",
       "       2.040e+02, 2.050e+02, 2.050e+02, 2.060e+02, 2.060e+02, 2.060e+02,\n",
       "       2.070e+02, 2.070e+02, 2.070e+02, 2.080e+02, 2.080e+02, 2.080e+02,\n",
       "       2.090e+02, 2.090e+02, 2.090e+02, 2.100e+02, 2.100e+02, 2.100e+02,\n",
       "       2.110e+02, 2.110e+02, 2.110e+02, 2.120e+02, 2.120e+02, 2.120e+02,\n",
       "       2.130e+02, 2.130e+02, 2.140e+02, 2.140e+02, 2.150e+02, 2.140e+02,\n",
       "       2.150e+02, 2.160e+02, 2.160e+02, 2.160e+02, 2.170e+02, 2.170e+02,\n",
       "       2.180e+02, 2.170e+02, 2.180e+02, 2.190e+02, 2.190e+02, 2.200e+02,\n",
       "       2.200e+02, 2.210e+02, 2.210e+02, 2.220e+02, 2.220e+02, 2.230e+02,\n",
       "       2.240e+02, 2.250e+02, 2.260e+02, 2.270e+02, 2.270e+02, 2.270e+02,\n",
       "       2.280e+02, 2.280e+02, 2.290e+02, 2.290e+02, 2.300e+02, 2.300e+02,\n",
       "       2.310e+02, 2.310e+02, 2.320e+02, 2.330e+02, 2.320e+02, 2.330e+02,\n",
       "       2.340e+02, 2.340e+02, 2.340e+02, 2.350e+02, 2.350e+02, 2.350e+02,\n",
       "       2.350e+02, 2.360e+02, 2.360e+02, 2.360e+02, 2.370e+02, 2.370e+02,\n",
       "       2.380e+02, 2.380e+02, 2.390e+02, 2.390e+02, 2.400e+02, 2.400e+02,\n",
       "       2.410e+02, 2.410e+02, 2.420e+02, 2.420e+02, 2.410e+02, 2.430e+02,\n",
       "       2.430e+02, 2.440e+02, 2.430e+02, 2.440e+02, 2.450e+02, 2.450e+02,\n",
       "       2.450e+02, 2.460e+02, 2.460e+02, 2.470e+02, 2.470e+02, 2.470e+02,\n",
       "       2.480e+02, 2.480e+02, 2.480e+02, 2.480e+02, 2.490e+02, 2.490e+02,\n",
       "       2.490e+02, 2.500e+02, 2.500e+02, 2.500e+02, 2.510e+02, 2.510e+02,\n",
       "       2.510e+02, 2.520e+02, 2.520e+02, 2.520e+02, 2.530e+02, 2.530e+02,\n",
       "       2.540e+02, 2.540e+02, 2.540e+02, 2.550e+02, 2.550e+02, 2.560e+02,\n",
       "       2.560e+02, 2.560e+02, 2.570e+02, 2.570e+02, 2.570e+02, 2.580e+02,\n",
       "       2.580e+02, 2.580e+02, 2.590e+02, 2.590e+02, 2.600e+02, 2.600e+02,\n",
       "       2.600e+02, 2.610e+02, 2.610e+02, 2.620e+02, 2.620e+02, 2.620e+02,\n",
       "       2.630e+02, 2.630e+02, 2.640e+02, 2.640e+02, 2.650e+02, 2.640e+02,\n",
       "       2.650e+02, 2.650e+02, 2.660e+02, 2.660e+02, 2.660e+02, 2.670e+02,\n",
       "       2.670e+02, 2.670e+02, 2.680e+02, 2.680e+02, 2.680e+02, 2.690e+02,\n",
       "       2.690e+02, 2.690e+02, 2.700e+02, 2.700e+02, 2.700e+02, 2.700e+02,\n",
       "       2.710e+02, 2.710e+02, 2.710e+02, 2.720e+02, 2.720e+02, 2.720e+02,\n",
       "       2.730e+02, 2.730e+02, 2.730e+02, 2.740e+02, 2.740e+02, 2.740e+02,\n",
       "       2.750e+02, 2.750e+02, 2.750e+02, 2.750e+02, 2.760e+02, 2.760e+02,\n",
       "       2.760e+02, 2.770e+02, 2.770e+02, 2.770e+02, 2.780e+02, 2.780e+02,\n",
       "       2.780e+02, 2.790e+02, 2.790e+02, 2.790e+02, 2.800e+02, 2.800e+02,\n",
       "       2.800e+02, 2.810e+02, 2.810e+02, 2.820e+02, 2.820e+02, 2.830e+02,\n",
       "       2.830e+02, 2.830e+02, 2.830e+02, 2.840e+02, 2.840e+02, 2.850e+02,\n",
       "       2.850e+02, 2.850e+02, 2.860e+02, 2.860e+02, 2.860e+02, 2.870e+02,\n",
       "       2.870e+02, 2.870e+02, 2.870e+02, 2.880e+02, 2.880e+02, 2.880e+02,\n",
       "       2.880e+02, 2.880e+02, 2.890e+02, 2.890e+02, 2.900e+02, 2.890e+02,\n",
       "       2.900e+02, 2.910e+02, 2.920e+02, 2.930e+02, 2.940e+02, 2.940e+02,\n",
       "       2.950e+02, 2.950e+02, 2.960e+02, 2.960e+02, 2.970e+02, 2.960e+02,\n",
       "       2.970e+02, 2.950e+02, 2.960e+02, 2.950e+02, 2.960e+02, 1.296e+03,\n",
       "       1.296e+03, 1.296e+03, 2.960e+02, 2.980e+02, 2.990e+02, 1.296e+03,\n",
       "       3.000e+02, 3.000e+02, 2.990e+02, 3.000e+02, 3.010e+02, 3.010e+02,\n",
       "       3.020e+02, 3.020e+02, 3.030e+02, 3.040e+02, 3.040e+02, 3.030e+02,\n",
       "       3.050e+02, 3.040e+02, 3.050e+02, 3.060e+02, 3.060e+02, 3.060e+02,\n",
       "       3.070e+02, 3.070e+02, 3.080e+02, 3.070e+02, 3.080e+02, 3.070e+02,\n",
       "       3.080e+02, 3.090e+02, 3.090e+02, 3.100e+02, 3.090e+02, 3.100e+02,\n",
       "       3.110e+02, 3.100e+02, 3.110e+02, 3.110e+02, 3.120e+02, 3.120e+02,\n",
       "       3.120e+02, 3.130e+02, 3.130e+02, 3.140e+02, 3.130e+02, 3.140e+02,\n",
       "       3.150e+02, 3.140e+02, 3.140e+02, 3.150e+02, 3.160e+02, 3.170e+02,\n",
       "       3.170e+02, 3.180e+02, 3.180e+02, 3.190e+02, 3.190e+02, 3.190e+02,\n",
       "       3.180e+02, 3.190e+02, 3.200e+02, 3.200e+02, 3.210e+02, 3.200e+02,\n",
       "       3.210e+02, 3.210e+02, 3.210e+02, 3.210e+02, 3.220e+02, 3.230e+02,\n",
       "       2.940e+02, 2.940e+02, 2.820e+02, 2.760e+02, 2.680e+02, 2.590e+02,\n",
       "       2.380e+02, 1.370e+02, 1.340e+02, 4.600e+01, 2.600e+01, 2.600e+01,\n",
       "       2.700e+01, 2.700e+01, 2.600e+01, 2.700e+01, 2.600e+01, 2.500e+01,\n",
       "       2.400e+01, 2.500e+01, 2.400e+01, 2.400e+01, 2.300e+01, 2.300e+01,\n",
       "       2.200e+01, 2.200e+01, 2.400e+01, 1.200e+01, 3.240e+02, 3.250e+02])"
      ]
     },
     "execution_count": 258,
     "metadata": {},
     "output_type": "execute_result"
    }
   ],
   "source": [
    "track_id"
   ]
  },
  {
   "cell_type": "code",
   "execution_count": 259,
   "id": "92a8aba3",
   "metadata": {
    "scrolled": true
   },
   "outputs": [
    {
     "data": {
      "text/plain": [
       "<matplotlib.colorbar.Colorbar at 0x16812bfa0>"
      ]
     },
     "execution_count": 259,
     "metadata": {},
     "output_type": "execute_result"
    },
    {
     "data": {
      "image/png": "[encoded data removed]",
      "text/plain": [
       "<Figure size 720x360 with 2 Axes>"
      ]
     },
     "metadata": {
      "needs_background": "light"
     },
     "output_type": "display_data"
    }
   ],
   "source": [
    "pix, xedges, yedges, image = plt.hist2d(avg_track[:,0], avg_track[:,1], (max(x_pix), max(y_pix)),cmin=0.01)#, weights=avg_track[:,2])\n",
    "plt.colorbar()"
   ]
  },
  {
   "cell_type": "code",
   "execution_count": 260,
   "id": "0baa200e",
   "metadata": {},
   "outputs": [
    {
     "name": "stdout",
     "output_type": "stream",
     "text": [
      "[  2.           3.           3.87240829   4.87779434   5.28732849\n",
      "   5.81303116   6.14099617   6.8483816    7.32802548   8.0608365\n",
      "   8.37252312   9.26470588  10.64347826  10.87676056  11.03624382\n",
      "  11.58372093  12.26144756  13.26734104  14.22298851  15.63577236\n",
      "  16.4429882   17.92953737  18.9489236   19.95590682  20.88656768\n",
      "  21.83845339  22.96918267  24.          25.          26.\n",
      "  27.          28.          29.          30.          31.\n",
      "  32.          33.          34.          35.          36.\n",
      "  37.          38.          38.47384615  39.          39.68201618\n",
      "  40.          39.72327672  40.          39.92886179  39.91788321\n",
      "  39.97336562  40.          40.00233645  40.10116732  40.17495396\n",
      "  40.30379747  40.5921659   40.98523622  41.          41.\n",
      "  41.          41.05693069  41.14720812  41.14971751  41.10791367\n",
      "  41.06008584  41.          41.          41.          41.\n",
      "  40.94475138  40.80838323  40.50341686  40.06542056  40.00392927\n",
      "  40.          39.91695502  39.2375      39.          38.52272727\n",
      "  37.97908745  37.32848233  36.98907104  36.28125     36.00507614\n",
      "  35.9434555   35.13941019  35.          34.40363636  34.00031576\n",
      "  33.99935484  33.90060852  33.06648936  32.66842105  31.20323741\n",
      "  30.00645161  29.          28.          27.          26.\n",
      "  25.          24.          23.          22.          21.\n",
      "  21.          20.          19.          18.0234375   17.94515753\n",
      "  17.62654321  17.63622291  17.77254902  17.84899846  17.88712522\n",
      "  17.96544715  18.31681416  19.17318436  20.41013269  21.69439072\n",
      "  22.99454545  24.          25.          26.          27.\n",
      "  28.          29.          29.99510763  30.96612595  31.96759259\n",
      "  33.          34.          35.          36.          37.\n",
      "  38.          39.          40.          42.          42.98918919\n",
      "  44.          45.          46.          47.          48.\n",
      "  49.          50.          51.          52.          53.\n",
      "  54.          55.          56.          57.          58.\n",
      "  59.          59.87880711  59.79378069  59.85204082  59.57935627\n",
      "  60.03125     60.46394984  60.91107383  61.          61.00552486\n",
      "  61.          60.95825933  60.4476584   60.          59.905735\n",
      "  60.54829034  61.25557809  62.07040417  62.85204082  63.22239032\n",
      "  63.88713318  64.01098901  64.15168897  64.83867277  65.2\n",
      "  65.92087542  66.25286041  67.099631    67.78975265  68.62920427\n",
      "  69.07945042  70.30536913  70.52216749  71.43875278  72.48441247\n",
      "  72.88378378  73.53061224  74.04923599  74.40124417  75.08510638\n",
      "  75.30588235  75.65695793  75.89974937  75.96344648  75.99635036\n",
      "  75.99825175  76.11485452  76.          76.12972973  76.91885345\n",
      "  78.40136054  79.25        80.43914081  81.1641791   82.06469501\n",
      "  83.16716418  84.25451264  85.03265941  85.5869863   85.92478632\n",
      "  86.02227171  86.01709402  85.99381443  85.29534314  85.26220096\n",
      "  84.          83.          82.          84.          85.\n",
      "  86.          87.          87.79186228  89.          90.\n",
      "  91.          92.          93.          94.          95.\n",
      "  95.99365079  96.06313131  96.23168654  96.08416834  95.94808743\n",
      "  95.57239819  94.61149826  94.48689139  93.93865906  93.50738108\n",
      "  92.91803279  92.23970944  91.26666667  90.57673019  89.02697495\n",
      "  88.07973103  87.08216783  86.77464789  86.5248227   86.12147239\n",
      "  85.19163293  85.01054852  85.00774194  85.71501706  86.003517\n",
      "  86.11004785  86.28701595  86.99609375  87.37007874  88.25649013\n",
      "  88.64136126  90.575       91.95993837  92.99901088  94.\n",
      "  94.99015748  95.91764706  96.46036161  97.2319202   98.02625821\n",
      "  99.64345638 100.60103627 101.81325301 102.99282787 104.\n",
      " 104.24485597 104.54642857 105.59109312 106.68885191 106.95744681\n",
      " 107.92091008 108.82437746 109.99817629 110.80495947 109.53036437\n",
      " 109.26065411 111.         111.         111.         111.15018315\n",
      " 111.88701299 113.00154719 112.09090909 116.         116.05860806\n",
      " 116.8372093  117.68       117.82       117.99033816 118.01043841\n",
      " 118.5026087  118.96412556 119.18608414 120.0630137  120.15217391\n",
      " 119.07890961 119.16532721 120.20326679 121.10359712 122.17772591\n",
      " 122.01748252 122.         121.         120.         119.\n",
      " 118.         117.48316062 120.         119.           1.\n",
      "   1.         115.        ]\n"
     ]
    }
   ],
   "source": [
    "print(avg_track[:,1])"
   ]
  },
  {
   "cell_type": "code",
   "execution_count": 241,
   "id": "3c789256",
   "metadata": {},
   "outputs": [
    {
     "data": {
      "image/png": "[encoded data removed]",
      "text/plain": [
       "<Figure size 720x360 with 1 Axes>"
      ]
     },
     "metadata": {
      "needs_background": "light"
     },
     "output_type": "display_data"
    }
   ],
   "source": [
    "pix, xedges, yedges, image = plt.hist2d(x_pix, y_pix, (max(x_pix), max(y_pix)), cmin=1, weights=c_dep)\n"
   ]
  },
  {
   "cell_type": "code",
   "execution_count": 242,
   "id": "8055686b",
   "metadata": {},
   "outputs": [
    {
     "data": {
      "image/png": "[encoded data removed]",
      "text/plain": [
       "<Figure size 720x360 with 1 Axes>"
      ]
     },
     "metadata": {
      "needs_background": "light"
     },
     "output_type": "display_data"
    }
   ],
   "source": [
    "pix, xedges, yedges, image = plt.hist2d(avg_track[:,0], avg_track[:,1], (max(x_pix), max(y_pix)),cmin=0.1, weights=avg_track[:,3])\n"
   ]
  },
  {
   "cell_type": "code",
   "execution_count": 243,
   "id": "36fcfb3f",
   "metadata": {},
   "outputs": [
    {
     "data": {
      "text/plain": [
       "<matplotlib.colorbar.Colorbar at 0x169dd3c10>"
      ]
     },
     "execution_count": 243,
     "metadata": {},
     "output_type": "execute_result"
    },
    {
     "data": {
      "image/png": "[encoded data removed]",
      "text/plain": [
       "<Figure size 720x360 with 2 Axes>"
      ]
     },
     "metadata": {
      "needs_background": "light"
     },
     "output_type": "display_data"
    }
   ],
   "source": [
    "x=np.arange(-10,10,0.1)\n",
    "y=np.arange(-10,10,0.1)\n",
    "xx, yy= np.meshgrid(x,y)\n",
    "pix=np.dstack((xx,yy))\n",
    "val=gauss_2d((xx,yy), (0,0), 1)\n",
    "plt.imshow(val)\n",
    "plt.colorbar()"
   ]
  },
  {
   "cell_type": "code",
   "execution_count": 165,
   "id": "c01da8c5",
   "metadata": {},
   "outputs": [
    {
     "data": {
      "text/plain": [
       "array([-1.00000000e+01, -9.90000000e+00, -9.80000000e+00, -9.70000000e+00,\n",
       "       -9.60000000e+00, -9.50000000e+00, -9.40000000e+00, -9.30000000e+00,\n",
       "       -9.20000000e+00, -9.10000000e+00, -9.00000000e+00, -8.90000000e+00,\n",
       "       -8.80000000e+00, -8.70000000e+00, -8.60000000e+00, -8.50000000e+00,\n",
       "       -8.40000000e+00, -8.30000000e+00, -8.20000000e+00, -8.10000000e+00,\n",
       "       -8.00000000e+00, -7.90000000e+00, -7.80000000e+00, -7.70000000e+00,\n",
       "       -7.60000000e+00, -7.50000000e+00, -7.40000000e+00, -7.30000000e+00,\n",
       "       -7.20000000e+00, -7.10000000e+00, -7.00000000e+00, -6.90000000e+00,\n",
       "       -6.80000000e+00, -6.70000000e+00, -6.60000000e+00, -6.50000000e+00,\n",
       "       -6.40000000e+00, -6.30000000e+00, -6.20000000e+00, -6.10000000e+00,\n",
       "       -6.00000000e+00, -5.90000000e+00, -5.80000000e+00, -5.70000000e+00,\n",
       "       -5.60000000e+00, -5.50000000e+00, -5.40000000e+00, -5.30000000e+00,\n",
       "       -5.20000000e+00, -5.10000000e+00, -5.00000000e+00, -4.90000000e+00,\n",
       "       -4.80000000e+00, -4.70000000e+00, -4.60000000e+00, -4.50000000e+00,\n",
       "       -4.40000000e+00, -4.30000000e+00, -4.20000000e+00, -4.10000000e+00,\n",
       "       -4.00000000e+00, -3.90000000e+00, -3.80000000e+00, -3.70000000e+00,\n",
       "       -3.60000000e+00, -3.50000000e+00, -3.40000000e+00, -3.30000000e+00,\n",
       "       -3.20000000e+00, -3.10000000e+00, -3.00000000e+00, -2.90000000e+00,\n",
       "       -2.80000000e+00, -2.70000000e+00, -2.60000000e+00, -2.50000000e+00,\n",
       "       -2.40000000e+00, -2.30000000e+00, -2.20000000e+00, -2.10000000e+00,\n",
       "       -2.00000000e+00, -1.90000000e+00, -1.80000000e+00, -1.70000000e+00,\n",
       "       -1.60000000e+00, -1.50000000e+00, -1.40000000e+00, -1.30000000e+00,\n",
       "       -1.20000000e+00, -1.10000000e+00, -1.00000000e+00, -9.00000000e-01,\n",
       "       -8.00000000e-01, -7.00000000e-01, -6.00000000e-01, -5.00000000e-01,\n",
       "       -4.00000000e-01, -3.00000000e-01, -2.00000000e-01, -1.00000000e-01,\n",
       "       -3.55271368e-14,  1.00000000e-01,  2.00000000e-01,  3.00000000e-01,\n",
       "        4.00000000e-01,  5.00000000e-01,  6.00000000e-01,  7.00000000e-01,\n",
       "        8.00000000e-01,  9.00000000e-01,  1.00000000e+00,  1.10000000e+00,\n",
       "        1.20000000e+00,  1.30000000e+00,  1.40000000e+00,  1.50000000e+00,\n",
       "        1.60000000e+00,  1.70000000e+00,  1.80000000e+00,  1.90000000e+00,\n",
       "        2.00000000e+00,  2.10000000e+00,  2.20000000e+00,  2.30000000e+00,\n",
       "        2.40000000e+00,  2.50000000e+00,  2.60000000e+00,  2.70000000e+00,\n",
       "        2.80000000e+00,  2.90000000e+00,  3.00000000e+00,  3.10000000e+00,\n",
       "        3.20000000e+00,  3.30000000e+00,  3.40000000e+00,  3.50000000e+00,\n",
       "        3.60000000e+00,  3.70000000e+00,  3.80000000e+00,  3.90000000e+00,\n",
       "        4.00000000e+00,  4.10000000e+00,  4.20000000e+00,  4.30000000e+00,\n",
       "        4.40000000e+00,  4.50000000e+00,  4.60000000e+00,  4.70000000e+00,\n",
       "        4.80000000e+00,  4.90000000e+00,  5.00000000e+00,  5.10000000e+00,\n",
       "        5.20000000e+00,  5.30000000e+00,  5.40000000e+00,  5.50000000e+00,\n",
       "        5.60000000e+00,  5.70000000e+00,  5.80000000e+00,  5.90000000e+00,\n",
       "        6.00000000e+00,  6.10000000e+00,  6.20000000e+00,  6.30000000e+00,\n",
       "        6.40000000e+00,  6.50000000e+00,  6.60000000e+00,  6.70000000e+00,\n",
       "        6.80000000e+00,  6.90000000e+00,  7.00000000e+00,  7.10000000e+00,\n",
       "        7.20000000e+00,  7.30000000e+00,  7.40000000e+00,  7.50000000e+00,\n",
       "        7.60000000e+00,  7.70000000e+00,  7.80000000e+00,  7.90000000e+00,\n",
       "        8.00000000e+00,  8.10000000e+00,  8.20000000e+00,  8.30000000e+00,\n",
       "        8.40000000e+00,  8.50000000e+00,  8.60000000e+00,  8.70000000e+00,\n",
       "        8.80000000e+00,  8.90000000e+00,  9.00000000e+00,  9.10000000e+00,\n",
       "        9.20000000e+00,  9.30000000e+00,  9.40000000e+00,  9.50000000e+00,\n",
       "        9.60000000e+00,  9.70000000e+00,  9.80000000e+00,  9.90000000e+00])"
      ]
     },
     "execution_count": 165,
     "metadata": {},
     "output_type": "execute_result"
    }
   ],
   "source": [
    "xx[1]"
   ]
  },
  {
   "cell_type": "code",
   "execution_count": 166,
   "id": "bf8277fb",
   "metadata": {},
   "outputs": [
    {
     "ename": "ValueError",
     "evalue": "too many values to unpack (expected 2)",
     "output_type": "error",
     "traceback": [
      "\u001b[0;31m---------------------------------------------------------------------------\u001b[0m",
      "\u001b[0;31mAttributeError\u001b[0m                            Traceback (most recent call last)",
      "\u001b[0;32m/opt/homebrew/lib/python3.9/site-packages/numpy/lib/histograms.py\u001b[0m in \u001b[0;36mhistogramdd\u001b[0;34m(sample, bins, range, normed, weights, density)\u001b[0m\n\u001b[1;32m   1015\u001b[0m         \u001b[0;31m# Sample is an ND-array.\u001b[0m\u001b[0;34m\u001b[0m\u001b[0;34m\u001b[0m\u001b[0m\n\u001b[0;32m-> 1016\u001b[0;31m         \u001b[0mN\u001b[0m\u001b[0;34m,\u001b[0m \u001b[0mD\u001b[0m \u001b[0;34m=\u001b[0m \u001b[0msample\u001b[0m\u001b[0;34m.\u001b[0m\u001b[0mshape\u001b[0m\u001b[0;34m\u001b[0m\u001b[0;34m\u001b[0m\u001b[0m\n\u001b[0m\u001b[1;32m   1017\u001b[0m     \u001b[0;32mexcept\u001b[0m \u001b[0;34m(\u001b[0m\u001b[0mAttributeError\u001b[0m\u001b[0;34m,\u001b[0m \u001b[0mValueError\u001b[0m\u001b[0;34m)\u001b[0m\u001b[0;34m:\u001b[0m\u001b[0;34m\u001b[0m\u001b[0;34m\u001b[0m\u001b[0m\n",
      "\u001b[0;31mAttributeError\u001b[0m: 'list' object has no attribute 'shape'",
      "\nDuring handling of the above exception, another exception occurred:\n",
      "\u001b[0;31mValueError\u001b[0m                                Traceback (most recent call last)",
      "\u001b[0;32m/var/folders/ng/nzc5m6m105d49gp2r87w7mjm0000gn/T/ipykernel_1111/978422926.py\u001b[0m in \u001b[0;36m<module>\u001b[0;34m\u001b[0m\n\u001b[0;32m----> 1\u001b[0;31m \u001b[0mplt\u001b[0m\u001b[0;34m.\u001b[0m\u001b[0mhist2d\u001b[0m\u001b[0;34m(\u001b[0m\u001b[0mxx\u001b[0m\u001b[0;34m,\u001b[0m\u001b[0myy\u001b[0m\u001b[0;34m)\u001b[0m\u001b[0;34m\u001b[0m\u001b[0;34m\u001b[0m\u001b[0m\n\u001b[0m",
      "\u001b[0;32m/opt/homebrew/lib/python3.9/site-packages/matplotlib/pyplot.py\u001b[0m in \u001b[0;36mhist2d\u001b[0;34m(x, y, bins, range, density, weights, cmin, cmax, data, **kwargs)\u001b[0m\n\u001b[1;32m   2875\u001b[0m         \u001b[0mx\u001b[0m\u001b[0;34m,\u001b[0m \u001b[0my\u001b[0m\u001b[0;34m,\u001b[0m \u001b[0mbins\u001b[0m\u001b[0;34m=\u001b[0m\u001b[0;36m10\u001b[0m\u001b[0;34m,\u001b[0m \u001b[0mrange\u001b[0m\u001b[0;34m=\u001b[0m\u001b[0;32mNone\u001b[0m\u001b[0;34m,\u001b[0m \u001b[0mdensity\u001b[0m\u001b[0;34m=\u001b[0m\u001b[0;32mFalse\u001b[0m\u001b[0;34m,\u001b[0m \u001b[0mweights\u001b[0m\u001b[0;34m=\u001b[0m\u001b[0;32mNone\u001b[0m\u001b[0;34m,\u001b[0m\u001b[0;34m\u001b[0m\u001b[0;34m\u001b[0m\u001b[0m\n\u001b[1;32m   2876\u001b[0m         cmin=None, cmax=None, *, data=None, **kwargs):\n\u001b[0;32m-> 2877\u001b[0;31m     __ret = gca().hist2d(\n\u001b[0m\u001b[1;32m   2878\u001b[0m         \u001b[0mx\u001b[0m\u001b[0;34m,\u001b[0m \u001b[0my\u001b[0m\u001b[0;34m,\u001b[0m \u001b[0mbins\u001b[0m\u001b[0;34m=\u001b[0m\u001b[0mbins\u001b[0m\u001b[0;34m,\u001b[0m \u001b[0mrange\u001b[0m\u001b[0;34m=\u001b[0m\u001b[0mrange\u001b[0m\u001b[0;34m,\u001b[0m \u001b[0mdensity\u001b[0m\u001b[0;34m=\u001b[0m\u001b[0mdensity\u001b[0m\u001b[0;34m,\u001b[0m\u001b[0;34m\u001b[0m\u001b[0;34m\u001b[0m\u001b[0m\n\u001b[1;32m   2879\u001b[0m         \u001b[0mweights\u001b[0m\u001b[0;34m=\u001b[0m\u001b[0mweights\u001b[0m\u001b[0;34m,\u001b[0m \u001b[0mcmin\u001b[0m\u001b[0;34m=\u001b[0m\u001b[0mcmin\u001b[0m\u001b[0;34m,\u001b[0m \u001b[0mcmax\u001b[0m\u001b[0;34m=\u001b[0m\u001b[0mcmax\u001b[0m\u001b[0;34m,\u001b[0m\u001b[0;34m\u001b[0m\u001b[0;34m\u001b[0m\u001b[0m\n",
      "\u001b[0;32m/opt/homebrew/lib/python3.9/site-packages/matplotlib/__init__.py\u001b[0m in \u001b[0;36minner\u001b[0;34m(ax, data, *args, **kwargs)\u001b[0m\n\u001b[1;32m   1359\u001b[0m     \u001b[0;32mdef\u001b[0m \u001b[0minner\u001b[0m\u001b[0;34m(\u001b[0m\u001b[0max\u001b[0m\u001b[0;34m,\u001b[0m \u001b[0;34m*\u001b[0m\u001b[0margs\u001b[0m\u001b[0;34m,\u001b[0m \u001b[0mdata\u001b[0m\u001b[0;34m=\u001b[0m\u001b[0;32mNone\u001b[0m\u001b[0;34m,\u001b[0m \u001b[0;34m**\u001b[0m\u001b[0mkwargs\u001b[0m\u001b[0;34m)\u001b[0m\u001b[0;34m:\u001b[0m\u001b[0;34m\u001b[0m\u001b[0;34m\u001b[0m\u001b[0m\n\u001b[1;32m   1360\u001b[0m         \u001b[0;32mif\u001b[0m \u001b[0mdata\u001b[0m \u001b[0;32mis\u001b[0m \u001b[0;32mNone\u001b[0m\u001b[0;34m:\u001b[0m\u001b[0;34m\u001b[0m\u001b[0;34m\u001b[0m\u001b[0m\n\u001b[0;32m-> 1361\u001b[0;31m             \u001b[0;32mreturn\u001b[0m \u001b[0mfunc\u001b[0m\u001b[0;34m(\u001b[0m\u001b[0max\u001b[0m\u001b[0;34m,\u001b[0m \u001b[0;34m*\u001b[0m\u001b[0mmap\u001b[0m\u001b[0;34m(\u001b[0m\u001b[0msanitize_sequence\u001b[0m\u001b[0;34m,\u001b[0m \u001b[0margs\u001b[0m\u001b[0;34m)\u001b[0m\u001b[0;34m,\u001b[0m \u001b[0;34m**\u001b[0m\u001b[0mkwargs\u001b[0m\u001b[0;34m)\u001b[0m\u001b[0;34m\u001b[0m\u001b[0;34m\u001b[0m\u001b[0m\n\u001b[0m\u001b[1;32m   1362\u001b[0m \u001b[0;34m\u001b[0m\u001b[0m\n\u001b[1;32m   1363\u001b[0m         \u001b[0mbound\u001b[0m \u001b[0;34m=\u001b[0m \u001b[0mnew_sig\u001b[0m\u001b[0;34m.\u001b[0m\u001b[0mbind\u001b[0m\u001b[0;34m(\u001b[0m\u001b[0max\u001b[0m\u001b[0;34m,\u001b[0m \u001b[0;34m*\u001b[0m\u001b[0margs\u001b[0m\u001b[0;34m,\u001b[0m \u001b[0;34m**\u001b[0m\u001b[0mkwargs\u001b[0m\u001b[0;34m)\u001b[0m\u001b[0;34m\u001b[0m\u001b[0;34m\u001b[0m\u001b[0m\n",
      "\u001b[0;32m/opt/homebrew/lib/python3.9/site-packages/matplotlib/axes/_axes.py\u001b[0m in \u001b[0;36mhist2d\u001b[0;34m(self, x, y, bins, range, density, weights, cmin, cmax, **kwargs)\u001b[0m\n\u001b[1;32m   7091\u001b[0m         \"\"\"\n\u001b[1;32m   7092\u001b[0m \u001b[0;34m\u001b[0m\u001b[0m\n\u001b[0;32m-> 7093\u001b[0;31m         h, xedges, yedges = np.histogram2d(x, y, bins=bins, range=range,\n\u001b[0m\u001b[1;32m   7094\u001b[0m                                            density=density, weights=weights)\n\u001b[1;32m   7095\u001b[0m \u001b[0;34m\u001b[0m\u001b[0m\n",
      "\u001b[0;32m/opt/homebrew/lib/python3.9/site-packages/numpy/core/overrides.py\u001b[0m in \u001b[0;36mhistogram2d\u001b[0;34m(*args, **kwargs)\u001b[0m\n",
      "\u001b[0;32m/opt/homebrew/lib/python3.9/site-packages/numpy/lib/twodim_base.py\u001b[0m in \u001b[0;36mhistogram2d\u001b[0;34m(x, y, bins, range, normed, weights, density)\u001b[0m\n\u001b[1;32m    823\u001b[0m         \u001b[0mxedges\u001b[0m \u001b[0;34m=\u001b[0m \u001b[0myedges\u001b[0m \u001b[0;34m=\u001b[0m \u001b[0masarray\u001b[0m\u001b[0;34m(\u001b[0m\u001b[0mbins\u001b[0m\u001b[0;34m)\u001b[0m\u001b[0;34m\u001b[0m\u001b[0;34m\u001b[0m\u001b[0m\n\u001b[1;32m    824\u001b[0m         \u001b[0mbins\u001b[0m \u001b[0;34m=\u001b[0m \u001b[0;34m[\u001b[0m\u001b[0mxedges\u001b[0m\u001b[0;34m,\u001b[0m \u001b[0myedges\u001b[0m\u001b[0;34m]\u001b[0m\u001b[0;34m\u001b[0m\u001b[0;34m\u001b[0m\u001b[0m\n\u001b[0;32m--> 825\u001b[0;31m     \u001b[0mhist\u001b[0m\u001b[0;34m,\u001b[0m \u001b[0medges\u001b[0m \u001b[0;34m=\u001b[0m \u001b[0mhistogramdd\u001b[0m\u001b[0;34m(\u001b[0m\u001b[0;34m[\u001b[0m\u001b[0mx\u001b[0m\u001b[0;34m,\u001b[0m \u001b[0my\u001b[0m\u001b[0;34m]\u001b[0m\u001b[0;34m,\u001b[0m \u001b[0mbins\u001b[0m\u001b[0;34m,\u001b[0m \u001b[0mrange\u001b[0m\u001b[0;34m,\u001b[0m \u001b[0mnormed\u001b[0m\u001b[0;34m,\u001b[0m \u001b[0mweights\u001b[0m\u001b[0;34m,\u001b[0m \u001b[0mdensity\u001b[0m\u001b[0;34m)\u001b[0m\u001b[0;34m\u001b[0m\u001b[0;34m\u001b[0m\u001b[0m\n\u001b[0m\u001b[1;32m    826\u001b[0m     \u001b[0;32mreturn\u001b[0m \u001b[0mhist\u001b[0m\u001b[0;34m,\u001b[0m \u001b[0medges\u001b[0m\u001b[0;34m[\u001b[0m\u001b[0;36m0\u001b[0m\u001b[0;34m]\u001b[0m\u001b[0;34m,\u001b[0m \u001b[0medges\u001b[0m\u001b[0;34m[\u001b[0m\u001b[0;36m1\u001b[0m\u001b[0;34m]\u001b[0m\u001b[0;34m\u001b[0m\u001b[0;34m\u001b[0m\u001b[0m\n\u001b[1;32m    827\u001b[0m \u001b[0;34m\u001b[0m\u001b[0m\n",
      "\u001b[0;32m/opt/homebrew/lib/python3.9/site-packages/numpy/core/overrides.py\u001b[0m in \u001b[0;36mhistogramdd\u001b[0;34m(*args, **kwargs)\u001b[0m\n",
      "\u001b[0;32m/opt/homebrew/lib/python3.9/site-packages/numpy/lib/histograms.py\u001b[0m in \u001b[0;36mhistogramdd\u001b[0;34m(sample, bins, range, normed, weights, density)\u001b[0m\n\u001b[1;32m   1018\u001b[0m         \u001b[0;31m# Sample is a sequence of 1D arrays.\u001b[0m\u001b[0;34m\u001b[0m\u001b[0;34m\u001b[0m\u001b[0m\n\u001b[1;32m   1019\u001b[0m         \u001b[0msample\u001b[0m \u001b[0;34m=\u001b[0m \u001b[0mnp\u001b[0m\u001b[0;34m.\u001b[0m\u001b[0matleast_2d\u001b[0m\u001b[0;34m(\u001b[0m\u001b[0msample\u001b[0m\u001b[0;34m)\u001b[0m\u001b[0;34m.\u001b[0m\u001b[0mT\u001b[0m\u001b[0;34m\u001b[0m\u001b[0;34m\u001b[0m\u001b[0m\n\u001b[0;32m-> 1020\u001b[0;31m         \u001b[0mN\u001b[0m\u001b[0;34m,\u001b[0m \u001b[0mD\u001b[0m \u001b[0;34m=\u001b[0m \u001b[0msample\u001b[0m\u001b[0;34m.\u001b[0m\u001b[0mshape\u001b[0m\u001b[0;34m\u001b[0m\u001b[0;34m\u001b[0m\u001b[0m\n\u001b[0m\u001b[1;32m   1021\u001b[0m \u001b[0;34m\u001b[0m\u001b[0m\n\u001b[1;32m   1022\u001b[0m     \u001b[0mnbin\u001b[0m \u001b[0;34m=\u001b[0m \u001b[0mnp\u001b[0m\u001b[0;34m.\u001b[0m\u001b[0mempty\u001b[0m\u001b[0;34m(\u001b[0m\u001b[0mD\u001b[0m\u001b[0;34m,\u001b[0m \u001b[0mint\u001b[0m\u001b[0;34m)\u001b[0m\u001b[0;34m\u001b[0m\u001b[0;34m\u001b[0m\u001b[0m\n",
      "\u001b[0;31mValueError\u001b[0m: too many values to unpack (expected 2)"
     ]
    },
    {
     "data": {
      "image/png": "[encoded data removed]",
      "text/plain": [
       "<Figure size 720x360 with 1 Axes>"
      ]
     },
     "metadata": {
      "needs_background": "light"
     },
     "output_type": "display_data"
    }
   ],
   "source": [
    "plt.hist2d(xx,yy)"
   ]
  },
  {
   "cell_type": "code",
   "execution_count": 37,
   "id": "90b251c7",
   "metadata": {},
   "outputs": [
    {
     "ename": "NameError",
     "evalue": "name 'nan' is not defined",
     "output_type": "error",
     "traceback": [
      "\u001b[0;31m---------------------------------------------------------------------------\u001b[0m",
      "\u001b[0;31mNameError\u001b[0m                                 Traceback (most recent call last)",
      "\u001b[0;32m/var/folders/ng/nzc5m6m105d49gp2r87w7mjm0000gn/T/ipykernel_1657/3372206603.py\u001b[0m in \u001b[0;36m<module>\u001b[0;34m\u001b[0m\n\u001b[0;32m----> 1\u001b[0;31m \u001b[0mcheck\u001b[0m\u001b[0;34m=\u001b[0m\u001b[0;34m[\u001b[0m\u001b[0mnan\u001b[0m\u001b[0;34m,\u001b[0m\u001b[0mnan\u001b[0m\u001b[0;34m]\u001b[0m\u001b[0;34m\u001b[0m\u001b[0;34m\u001b[0m\u001b[0m\n\u001b[0m",
      "\u001b[0;31mNameError\u001b[0m: name 'nan' is not defined"
     ]
    }
   ],
   "source": []
  },
  {
   "cell_type": "code",
   "execution_count": null,
   "id": "802eda3e",
   "metadata": {},
   "outputs": [],
   "source": []
  }
 ],
 "metadata": {
  "kernelspec": {
   "display_name": "Python 3 (ipykernel)",
   "language": "python",
   "name": "python3"
  },
  "language_info": {
   "codemirror_mode": {
    "name": "ipython",
    "version": 3
   },
   "file_extension": ".py",
   "mimetype": "text/x-python",
   "name": "python",
   "nbconvert_exporter": "python",
   "pygments_lexer": "ipython3",
   "version": "3.9.13"
  }
 },
 "nbformat": 4,
 "nbformat_minor": 5
}
