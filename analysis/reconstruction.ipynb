{
 "cells": [
  {
   "cell_type": "code",
   "execution_count": 1000,
   "id": "cb5ef624",
   "metadata": {},
   "outputs": [],
   "source": [
    "import uproot\n",
    "import numpy as np\n",
    "import matplotlib.pyplot as plt\n",
    "%matplotlib widget"
   ]
  },
  {
   "cell_type": "code",
   "execution_count": 1001,
   "id": "7de47175",
   "metadata": {
    "scrolled": true
   },
   "outputs": [],
   "source": [
    "tracks_t = uproot.open(\"../test.root:diffusion output\")\n",
    "tracks_t.values()\n",
    "def distance_formula(pix0, pix1):\n",
    "    return (np.sqrt((pix0[0]-pix1[0])**2 + (pix0[1]-pix1[1])**2))\n",
    "\n",
    "def label_nearby(deps,idx,track_idx):\n",
    "    #deps is depositions\n",
    "    #given a track_id, identify all pixels with track_id and then label all pixels touching track_id\n",
    "    \n",
    "    found=False\n",
    "    diff=np.diff(deps[:,2])\n",
    "    for start_pix in deps[np.argwhere(track_idx==idx)]:\n",
    "        #print(start_pix)\n",
    "        i_start=start_pix[0][0]\n",
    "        j_start=start_pix[0][1]\n",
    "        z_start=start_pix[0][2]\n",
    "        \n",
    "        for i, pixel in enumerate(deps):\n",
    "            \n",
    "            i_check=pixel[0]\n",
    "            j_check=pixel[1]\n",
    "            z_check=pixel[2]\n",
    "            \n",
    "            if (not np.isnan(track_idx[i])):\n",
    "                continue\n",
    "            #print(start_pix, pixel, diff[i-1])\n",
    "            #print(np.abs(z_start-z_check))\n",
    "            if(np.abs(z_start-z_check)<=4):\n",
    "                \n",
    "                dist=np.sqrt((i_check-i_start)**2 + (j_check-j_start)**2)\n",
    "                if(dist<2):\n",
    "                    found=True\n",
    "                    track_idx[i]=idx+1\n",
    "    if (not found):\n",
    "        #move on with next nan value\n",
    "        loc=np.min(np.argwhere(np.isnan(track_idx)))\n",
    "        track_idx[loc] = idx+1\n",
    "    return track_idx\n",
    "def label_track(deps):\n",
    "    #label all depositions with track ids\n",
    "    track_idx=np.empty(len(deps))\n",
    "    track_idx[:]=np.nan\n",
    "    track_idx[0]=0\n",
    "    idx=0\n",
    "    while(np.isnan(np.sum(track_idx))):\n",
    "        track_idx=label_nearby(deps, idx, track_idx)\n",
    "        idx+=1\n",
    "    return track_idx\n",
    "def average_track(track_ids, deps):\n",
    "    avg_pixels=[]\n",
    "    for pix_id in range(int(max(track_ids))):\n",
    "        locs = (np.argwhere(track_ids==pix_id))\n",
    "        pixels = deps[locs][:,0]\n",
    "        x_avg=np.average(pixels[:,0])\n",
    "        y_avg=np.average(pixels[:,1])\n",
    "        avg_pixels.append([x_avg,y_avg])\n",
    "    avg_pixels=np.array(avg_pixels)\n",
    "    return avg_pixels"
   ]
  },
  {
   "cell_type": "code",
   "execution_count": 1002,
   "id": "8248f96a",
   "metadata": {},
   "outputs": [],
   "source": [
    "event_num = 0\n",
    "x_pix = tracks_t[\"x_pix\"].array()[event_num]\n",
    "y_pix = tracks_t[\"y_pix\"].array()[event_num]\n",
    "c_dep = tracks_t[\"depC_pix\"].array()[event_num]\n",
    "z_toa = tracks_t[\"z_toa\"].array()[event_num]\n",
    "z_toa = z_toa - min(z_toa)"
   ]
  },
  {
   "cell_type": "markdown",
   "id": "7e5e4775",
   "metadata": {},
   "source": [
    "Method: set start pixel idx to 0, set all touching pixels idx to 1 and repeat\n",
    "then average numbers\n"
   ]
  },
  {
   "cell_type": "code",
   "execution_count": 1003,
   "id": "474bba98",
   "metadata": {},
   "outputs": [
    {
     "name": "stdout",
     "output_type": "stream",
     "text": [
      "124\n"
     ]
    },
    {
     "data": {
      "application/vnd.jupyter.widget-view+json": {
       "model_id": "a9652728287648809375326ec210eb3d",
       "version_major": 2,
       "version_minor": 0
      },
      "text/html": [
       "\n",
       "            <div style=\"display: inline-block;\">\n",
       "                <div class=\"jupyter-widgets widget-label\" style=\"text-align: center;\">\n",
       "                    Figure\n",
       "                </div>\n",
       "                <img src='data:image/png;base64,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' width=640.0/>\n",
       "            </div>\n",
       "        "
      ],
      "text/plain": [
       "Canvas(toolbar=Toolbar(toolitems=[('Home', 'Reset original view', 'home', 'home'), ('Back', 'Back to previous …"
      ]
     },
     "metadata": {},
     "output_type": "display_data"
    }
   ],
   "source": [
    "pix, xedges, yedges, image = plt.hist2d(x_pix, y_pix, (max(x_pix), max(y_pix)), weights=z_toa, cmin=1)\n",
    "#plt.plot(locs[0],locs[1], 'go')\n",
    "plt.plot(x_pix[0], y_pix[0],'go')\n",
    "plt.xlim(100,120)\n",
    "plt.ylim(300,350)\n",
    "plt.colorbar()\n",
    "print(len(pix))"
   ]
  },
  {
   "cell_type": "code",
   "execution_count": 1004,
   "id": "56dbdc4d",
   "metadata": {},
   "outputs": [],
   "source": [
    "deps=np.dstack((np.array(x_pix),np.array(y_pix),np.array(z_toa)))[0]\n",
    "track_idx=np.empty(len(deps))\n",
    "track_idx[:]=np.nan\n",
    "track_idx[0]=0\n",
    "idx=0\n",
    "track_id=label_track(deps)"
   ]
  },
  {
   "cell_type": "code",
   "execution_count": 1005,
   "id": "abf86638",
   "metadata": {},
   "outputs": [],
   "source": [
    "avg_track=average_track(track_id, deps)"
   ]
  },
  {
   "cell_type": "code",
   "execution_count": 1007,
   "id": "92a8aba3",
   "metadata": {},
   "outputs": [
    {
     "data": {
      "text/plain": [
       "(300.0, 350.0)"
      ]
     },
     "execution_count": 1007,
     "metadata": {},
     "output_type": "execute_result"
    }
   ],
   "source": [
    "pix, xedges, yedges, image = plt.hist2d(avg_track[:,0], avg_track[:,1], (max(x_pix), max(y_pix)),cmin=1)\n",
    "plt.xlim(100,120)\n",
    "plt.ylim(300,350)"
   ]
  },
  {
   "cell_type": "code",
   "execution_count": null,
   "id": "0151ce85",
   "metadata": {},
   "outputs": [],
   "source": []
  },
  {
   "cell_type": "code",
   "execution_count": null,
   "id": "23e2fb8e",
   "metadata": {},
   "outputs": [],
   "source": []
  }
 ],
 "metadata": {
  "kernelspec": {
   "display_name": "Python 3 (ipykernel)",
   "language": "python",
   "name": "python3"
  },
  "language_info": {
   "codemirror_mode": {
    "name": "ipython",
    "version": 3
   },
   "file_extension": ".py",
   "mimetype": "text/x-python",
   "name": "python",
   "nbconvert_exporter": "python",
   "pygments_lexer": "ipython3",
   "version": "3.9.13"
  }
 },
 "nbformat": 4,
 "nbformat_minor": 5
}
